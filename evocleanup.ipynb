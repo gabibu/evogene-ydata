{
 "cells": [
  {
   "cell_type": "code",
   "execution_count": 1,
   "metadata": {},
   "outputs": [],
   "source": [
    "import pandas as pd\n",
    "import numpy as np\n",
    "import numpy as np\n",
    "import pandas as pd\n",
    "from scipy.sparse import csr_matrix\n",
    "import matplotlib.pyplot as plt"
   ]
  },
  {
   "cell_type": "code",
   "execution_count": 2,
   "metadata": {},
   "outputs": [],
   "source": [
    "clust = pd.read_csv('evo/clusters.csv', header = None)"
   ]
  },
  {
   "cell_type": "code",
   "execution_count": 2,
   "metadata": {},
   "outputs": [],
   "source": [
    "# with pd.HDFStore('evo/test1.h5',  mode='r') as newstore:\n",
    "#     Y = newstore.select('Y')"
   ]
  },
  {
   "cell_type": "code",
   "execution_count": 3,
   "metadata": {},
   "outputs": [],
   "source": [
    "cl = np.load('evo/cluster2go_data.npz')"
   ]
  },
  {
   "cell_type": "code",
   "execution_count": 4,
   "metadata": {},
   "outputs": [],
   "source": [
    "cluster2go_data = csr_matrix((cl['data'], cl['indices'], cl['indptr']), shape=cl['shape'])"
   ]
  },
  {
   "cell_type": "code",
   "execution_count": 5,
   "metadata": {},
   "outputs": [
    {
     "data": {
      "text/html": [
       "<div>\n",
       "<style scoped>\n",
       "    .dataframe tbody tr th:only-of-type {\n",
       "        vertical-align: middle;\n",
       "    }\n",
       "\n",
       "    .dataframe tbody tr th {\n",
       "        vertical-align: top;\n",
       "    }\n",
       "\n",
       "    .dataframe thead th {\n",
       "        text-align: right;\n",
       "    }\n",
       "</style>\n",
       "<table border=\"1\" class=\"dataframe\">\n",
       "  <thead>\n",
       "    <tr style=\"text-align: right;\">\n",
       "      <th></th>\n",
       "      <th>feature</th>\n",
       "    </tr>\n",
       "  </thead>\n",
       "  <tbody>\n",
       "    <tr>\n",
       "      <th>0</th>\n",
       "      <td>go_105</td>\n",
       "    </tr>\n",
       "    <tr>\n",
       "      <th>1</th>\n",
       "      <td>go_45454</td>\n",
       "    </tr>\n",
       "    <tr>\n",
       "      <th>2</th>\n",
       "      <td>go_6355</td>\n",
       "    </tr>\n",
       "    <tr>\n",
       "      <th>3</th>\n",
       "      <td>go_5975</td>\n",
       "    </tr>\n",
       "    <tr>\n",
       "      <th>4</th>\n",
       "      <td>go_6313</td>\n",
       "    </tr>\n",
       "  </tbody>\n",
       "</table>\n",
       "</div>"
      ],
      "text/plain": [
       "    feature\n",
       "0    go_105\n",
       "1  go_45454\n",
       "2   go_6355\n",
       "3   go_5975\n",
       "4   go_6313"
      ]
     },
     "execution_count": 5,
     "metadata": {},
     "output_type": "execute_result"
    }
   ],
   "source": [
    "cluster2go_cols=pd.read_csv('evo/cluster2go_data.cols.txt',sep='\\t', header=None, names=['feature'])\n",
    "cluster2go_cols.head()"
   ]
  },
  {
   "cell_type": "code",
   "execution_count": 6,
   "metadata": {},
   "outputs": [],
   "source": [
    "cluster2go_clusters = pd.read_csv('evo/cluster2go_data.rows.txt',sep='\\t', header=None)"
   ]
  },
  {
   "cell_type": "code",
   "execution_count": 7,
   "metadata": {},
   "outputs": [],
   "source": [
    "Y_dense = cluster2go_data.todense()"
   ]
  },
  {
   "cell_type": "code",
   "execution_count": 8,
   "metadata": {},
   "outputs": [],
   "source": [
    "Y = pd.DataFrame(Y_dense,columns=cluster2go_cols['feature'].tolist())"
   ]
  },
  {
   "cell_type": "code",
   "execution_count": 9,
   "metadata": {},
   "outputs": [
    {
     "data": {
      "text/html": [
       "<div>\n",
       "<style scoped>\n",
       "    .dataframe tbody tr th:only-of-type {\n",
       "        vertical-align: middle;\n",
       "    }\n",
       "\n",
       "    .dataframe tbody tr th {\n",
       "        vertical-align: top;\n",
       "    }\n",
       "\n",
       "    .dataframe thead th {\n",
       "        text-align: right;\n",
       "    }\n",
       "</style>\n",
       "<table border=\"1\" class=\"dataframe\">\n",
       "  <thead>\n",
       "    <tr style=\"text-align: right;\">\n",
       "      <th></th>\n",
       "      <th>go_105</th>\n",
       "      <th>go_45454</th>\n",
       "      <th>go_6355</th>\n",
       "      <th>go_5975</th>\n",
       "      <th>go_6313</th>\n",
       "      <th>go_5992</th>\n",
       "      <th>go_8152</th>\n",
       "      <th>go_55114</th>\n",
       "      <th>go_9401</th>\n",
       "      <th>go_9404</th>\n",
       "      <th>...</th>\n",
       "      <th>go_48478</th>\n",
       "      <th>go_7096</th>\n",
       "      <th>go_30218</th>\n",
       "      <th>go_32007</th>\n",
       "      <th>go_30041</th>\n",
       "      <th>go_15780</th>\n",
       "      <th>go_9890</th>\n",
       "      <th>go_34775</th>\n",
       "      <th>go_71630</th>\n",
       "      <th>go_46649</th>\n",
       "    </tr>\n",
       "  </thead>\n",
       "  <tbody>\n",
       "    <tr>\n",
       "      <th>0</th>\n",
       "      <td>1</td>\n",
       "      <td>0</td>\n",
       "      <td>0</td>\n",
       "      <td>0</td>\n",
       "      <td>0</td>\n",
       "      <td>0</td>\n",
       "      <td>0</td>\n",
       "      <td>0</td>\n",
       "      <td>0</td>\n",
       "      <td>0</td>\n",
       "      <td>...</td>\n",
       "      <td>0</td>\n",
       "      <td>0</td>\n",
       "      <td>0</td>\n",
       "      <td>0</td>\n",
       "      <td>0</td>\n",
       "      <td>0</td>\n",
       "      <td>0</td>\n",
       "      <td>0</td>\n",
       "      <td>0</td>\n",
       "      <td>0</td>\n",
       "    </tr>\n",
       "    <tr>\n",
       "      <th>1</th>\n",
       "      <td>0</td>\n",
       "      <td>1</td>\n",
       "      <td>0</td>\n",
       "      <td>0</td>\n",
       "      <td>0</td>\n",
       "      <td>0</td>\n",
       "      <td>0</td>\n",
       "      <td>1</td>\n",
       "      <td>0</td>\n",
       "      <td>0</td>\n",
       "      <td>...</td>\n",
       "      <td>0</td>\n",
       "      <td>0</td>\n",
       "      <td>0</td>\n",
       "      <td>0</td>\n",
       "      <td>0</td>\n",
       "      <td>0</td>\n",
       "      <td>0</td>\n",
       "      <td>0</td>\n",
       "      <td>0</td>\n",
       "      <td>0</td>\n",
       "    </tr>\n",
       "    <tr>\n",
       "      <th>2</th>\n",
       "      <td>0</td>\n",
       "      <td>0</td>\n",
       "      <td>1</td>\n",
       "      <td>0</td>\n",
       "      <td>0</td>\n",
       "      <td>0</td>\n",
       "      <td>0</td>\n",
       "      <td>0</td>\n",
       "      <td>0</td>\n",
       "      <td>0</td>\n",
       "      <td>...</td>\n",
       "      <td>0</td>\n",
       "      <td>0</td>\n",
       "      <td>0</td>\n",
       "      <td>0</td>\n",
       "      <td>0</td>\n",
       "      <td>0</td>\n",
       "      <td>0</td>\n",
       "      <td>0</td>\n",
       "      <td>0</td>\n",
       "      <td>0</td>\n",
       "    </tr>\n",
       "    <tr>\n",
       "      <th>3</th>\n",
       "      <td>0</td>\n",
       "      <td>0</td>\n",
       "      <td>0</td>\n",
       "      <td>1</td>\n",
       "      <td>0</td>\n",
       "      <td>0</td>\n",
       "      <td>0</td>\n",
       "      <td>0</td>\n",
       "      <td>0</td>\n",
       "      <td>0</td>\n",
       "      <td>...</td>\n",
       "      <td>0</td>\n",
       "      <td>0</td>\n",
       "      <td>0</td>\n",
       "      <td>0</td>\n",
       "      <td>0</td>\n",
       "      <td>0</td>\n",
       "      <td>0</td>\n",
       "      <td>0</td>\n",
       "      <td>0</td>\n",
       "      <td>0</td>\n",
       "    </tr>\n",
       "    <tr>\n",
       "      <th>4</th>\n",
       "      <td>0</td>\n",
       "      <td>0</td>\n",
       "      <td>0</td>\n",
       "      <td>0</td>\n",
       "      <td>1</td>\n",
       "      <td>0</td>\n",
       "      <td>0</td>\n",
       "      <td>0</td>\n",
       "      <td>0</td>\n",
       "      <td>0</td>\n",
       "      <td>...</td>\n",
       "      <td>0</td>\n",
       "      <td>0</td>\n",
       "      <td>0</td>\n",
       "      <td>0</td>\n",
       "      <td>0</td>\n",
       "      <td>0</td>\n",
       "      <td>0</td>\n",
       "      <td>0</td>\n",
       "      <td>0</td>\n",
       "      <td>0</td>\n",
       "    </tr>\n",
       "  </tbody>\n",
       "</table>\n",
       "<p>5 rows × 1454 columns</p>\n",
       "</div>"
      ],
      "text/plain": [
       "   go_105  go_45454  go_6355  go_5975  go_6313  go_5992  go_8152  go_55114  \\\n",
       "0       1         0        0        0        0        0        0         0   \n",
       "1       0         1        0        0        0        0        0         1   \n",
       "2       0         0        1        0        0        0        0         0   \n",
       "3       0         0        0        1        0        0        0         0   \n",
       "4       0         0        0        0        1        0        0         0   \n",
       "\n",
       "   go_9401  go_9404  ...  go_48478  go_7096  go_30218  go_32007  go_30041  \\\n",
       "0        0        0  ...         0        0         0         0         0   \n",
       "1        0        0  ...         0        0         0         0         0   \n",
       "2        0        0  ...         0        0         0         0         0   \n",
       "3        0        0  ...         0        0         0         0         0   \n",
       "4        0        0  ...         0        0         0         0         0   \n",
       "\n",
       "   go_15780  go_9890  go_34775  go_71630  go_46649  \n",
       "0         0        0         0         0         0  \n",
       "1         0        0         0         0         0  \n",
       "2         0        0         0         0         0  \n",
       "3         0        0         0         0         0  \n",
       "4         0        0         0         0         0  \n",
       "\n",
       "[5 rows x 1454 columns]"
      ]
     },
     "execution_count": 9,
     "metadata": {},
     "output_type": "execute_result"
    }
   ],
   "source": [
    "Y.head()"
   ]
  },
  {
   "cell_type": "code",
   "execution_count": 10,
   "metadata": {},
   "outputs": [],
   "source": [
    "Y[\"cluster\"] = cluster2go_clusters"
   ]
  },
  {
   "cell_type": "code",
   "execution_count": 11,
   "metadata": {},
   "outputs": [],
   "source": [
    "Y = Y[Y['cluster'].isin(clust.loc[:,0].tolist())]"
   ]
  },
  {
   "cell_type": "code",
   "execution_count": 12,
   "metadata": {},
   "outputs": [
    {
     "data": {
      "text/plain": [
       "(19165021, 1455)"
      ]
     },
     "execution_count": 12,
     "metadata": {},
     "output_type": "execute_result"
    }
   ],
   "source": [
    "Y.shape"
   ]
  },
  {
   "cell_type": "code",
   "execution_count": null,
   "metadata": {},
   "outputs": [],
   "source": [
    "#relationships"
   ]
  },
  {
   "cell_type": "code",
   "execution_count": 13,
   "metadata": {},
   "outputs": [],
   "source": [
    "relationship_df = pd.read_csv('evo/go_relations.txt', sep='\\t')"
   ]
  },
  {
   "cell_type": "code",
   "execution_count": 14,
   "metadata": {},
   "outputs": [
    {
     "data": {
      "text/html": [
       "<div>\n",
       "<style scoped>\n",
       "    .dataframe tbody tr th:only-of-type {\n",
       "        vertical-align: middle;\n",
       "    }\n",
       "\n",
       "    .dataframe tbody tr th {\n",
       "        vertical-align: top;\n",
       "    }\n",
       "\n",
       "    .dataframe thead th {\n",
       "        text-align: right;\n",
       "    }\n",
       "</style>\n",
       "<table border=\"1\" class=\"dataframe\">\n",
       "  <thead>\n",
       "    <tr style=\"text-align: right;\">\n",
       "      <th></th>\n",
       "      <th>TERM</th>\n",
       "      <th>PARENT_TERM</th>\n",
       "    </tr>\n",
       "  </thead>\n",
       "  <tbody>\n",
       "    <tr>\n",
       "      <th>0</th>\n",
       "      <td>go_60974</td>\n",
       "      <td>go_60973</td>\n",
       "    </tr>\n",
       "    <tr>\n",
       "      <th>1</th>\n",
       "      <td>go_61345</td>\n",
       "      <td>go_60071</td>\n",
       "    </tr>\n",
       "    <tr>\n",
       "      <th>2</th>\n",
       "      <td>go_61345</td>\n",
       "      <td>go_61341</td>\n",
       "    </tr>\n",
       "    <tr>\n",
       "      <th>3</th>\n",
       "      <td>go_43554</td>\n",
       "      <td>go_9060</td>\n",
       "    </tr>\n",
       "    <tr>\n",
       "      <th>4</th>\n",
       "      <td>go_43554</td>\n",
       "      <td>go_15975</td>\n",
       "    </tr>\n",
       "  </tbody>\n",
       "</table>\n",
       "</div>"
      ],
      "text/plain": [
       "       TERM PARENT_TERM\n",
       "0  go_60974    go_60973\n",
       "1  go_61345    go_60071\n",
       "2  go_61345    go_61341\n",
       "3  go_43554     go_9060\n",
       "4  go_43554    go_15975"
      ]
     },
     "execution_count": 14,
     "metadata": {},
     "output_type": "execute_result"
    }
   ],
   "source": [
    "relationship_df.head()"
   ]
  },
  {
   "cell_type": "code",
   "execution_count": 15,
   "metadata": {},
   "outputs": [],
   "source": [
    "parents = set()\n",
    "childrens = set()\n",
    "for _, parent_child_row in relationship_df.iterrows():\n",
    "    parents.add(parent_child_row['PARENT_TERM'])\n",
    "    childrens.add(parent_child_row['TERM'])\n"
   ]
  },
  {
   "cell_type": "code",
   "execution_count": 16,
   "metadata": {},
   "outputs": [],
   "source": [
    "only_childrens = childrens - parents"
   ]
  },
  {
   "cell_type": "code",
   "execution_count": 17,
   "metadata": {},
   "outputs": [
    {
     "data": {
      "text/plain": [
       "13748"
      ]
     },
     "execution_count": 17,
     "metadata": {},
     "output_type": "execute_result"
    }
   ],
   "source": [
    "len(only_childrens)"
   ]
  },
  {
   "cell_type": "code",
   "execution_count": 18,
   "metadata": {},
   "outputs": [
    {
     "data": {
      "text/plain": [
       "['go_33466',\n",
       " 'go_90265',\n",
       " 'go_35423',\n",
       " 'go_10493',\n",
       " 'go_19462',\n",
       " 'go_43316',\n",
       " 'go_18233',\n",
       " 'go_46773',\n",
       " 'go_55089',\n",
       " 'go_10978']"
      ]
     },
     "execution_count": 18,
     "metadata": {},
     "output_type": "execute_result"
    }
   ],
   "source": [
    "list(only_childrens)[0:10]"
   ]
  },
  {
   "cell_type": "code",
   "execution_count": 19,
   "metadata": {},
   "outputs": [],
   "source": [
    "all_columns = cluster2go_cols['feature'].tolist()\n",
    "no_children_columns =  [col for col in  all_columns if col not in only_childrens]"
   ]
  },
  {
   "cell_type": "code",
   "execution_count": 20,
   "metadata": {},
   "outputs": [
    {
     "data": {
      "text/plain": [
       "1029"
      ]
     },
     "execution_count": 20,
     "metadata": {},
     "output_type": "execute_result"
    }
   ],
   "source": [
    "len(no_children_columns)"
   ]
  },
  {
   "cell_type": "code",
   "execution_count": 21,
   "metadata": {},
   "outputs": [],
   "source": [
    "Y.drop(no_children_columns, inplace=True,axis=1)"
   ]
  },
  {
   "cell_type": "code",
   "execution_count": 22,
   "metadata": {},
   "outputs": [
    {
     "data": {
      "text/plain": [
       "(19165021, 426)"
      ]
     },
     "execution_count": 22,
     "metadata": {},
     "output_type": "execute_result"
    }
   ],
   "source": [
    "Y.shape"
   ]
  },
  {
   "cell_type": "code",
   "execution_count": 24,
   "metadata": {},
   "outputs": [
    {
     "data": {
      "text/html": [
       "<div>\n",
       "<style scoped>\n",
       "    .dataframe tbody tr th:only-of-type {\n",
       "        vertical-align: middle;\n",
       "    }\n",
       "\n",
       "    .dataframe tbody tr th {\n",
       "        vertical-align: top;\n",
       "    }\n",
       "\n",
       "    .dataframe thead th {\n",
       "        text-align: right;\n",
       "    }\n",
       "</style>\n",
       "<table border=\"1\" class=\"dataframe\">\n",
       "  <thead>\n",
       "    <tr style=\"text-align: right;\">\n",
       "      <th></th>\n",
       "      <th>go_105</th>\n",
       "      <th>go_45454</th>\n",
       "      <th>go_9401</th>\n",
       "      <th>go_45227</th>\n",
       "      <th>go_42128</th>\n",
       "      <th>go_6189</th>\n",
       "      <th>go_19354</th>\n",
       "      <th>go_71722</th>\n",
       "      <th>go_9231</th>\n",
       "      <th>go_19544</th>\n",
       "      <th>...</th>\n",
       "      <th>go_30150</th>\n",
       "      <th>go_244</th>\n",
       "      <th>go_45122</th>\n",
       "      <th>go_48484</th>\n",
       "      <th>go_71929</th>\n",
       "      <th>go_48478</th>\n",
       "      <th>go_32007</th>\n",
       "      <th>go_30041</th>\n",
       "      <th>go_71630</th>\n",
       "      <th>cluster</th>\n",
       "    </tr>\n",
       "  </thead>\n",
       "  <tbody>\n",
       "    <tr>\n",
       "      <th>0</th>\n",
       "      <td>1</td>\n",
       "      <td>0</td>\n",
       "      <td>0</td>\n",
       "      <td>0</td>\n",
       "      <td>0</td>\n",
       "      <td>0</td>\n",
       "      <td>0</td>\n",
       "      <td>0</td>\n",
       "      <td>0</td>\n",
       "      <td>0</td>\n",
       "      <td>...</td>\n",
       "      <td>0</td>\n",
       "      <td>0</td>\n",
       "      <td>0</td>\n",
       "      <td>0</td>\n",
       "      <td>0</td>\n",
       "      <td>0</td>\n",
       "      <td>0</td>\n",
       "      <td>0</td>\n",
       "      <td>0</td>\n",
       "      <td>cl_357047299</td>\n",
       "    </tr>\n",
       "    <tr>\n",
       "      <th>1</th>\n",
       "      <td>0</td>\n",
       "      <td>1</td>\n",
       "      <td>0</td>\n",
       "      <td>0</td>\n",
       "      <td>0</td>\n",
       "      <td>0</td>\n",
       "      <td>0</td>\n",
       "      <td>0</td>\n",
       "      <td>0</td>\n",
       "      <td>0</td>\n",
       "      <td>...</td>\n",
       "      <td>0</td>\n",
       "      <td>0</td>\n",
       "      <td>0</td>\n",
       "      <td>0</td>\n",
       "      <td>0</td>\n",
       "      <td>0</td>\n",
       "      <td>0</td>\n",
       "      <td>0</td>\n",
       "      <td>0</td>\n",
       "      <td>cl_357037677</td>\n",
       "    </tr>\n",
       "    <tr>\n",
       "      <th>3</th>\n",
       "      <td>0</td>\n",
       "      <td>0</td>\n",
       "      <td>0</td>\n",
       "      <td>0</td>\n",
       "      <td>0</td>\n",
       "      <td>0</td>\n",
       "      <td>0</td>\n",
       "      <td>0</td>\n",
       "      <td>0</td>\n",
       "      <td>0</td>\n",
       "      <td>...</td>\n",
       "      <td>0</td>\n",
       "      <td>0</td>\n",
       "      <td>0</td>\n",
       "      <td>0</td>\n",
       "      <td>0</td>\n",
       "      <td>0</td>\n",
       "      <td>0</td>\n",
       "      <td>0</td>\n",
       "      <td>0</td>\n",
       "      <td>cl_366996869</td>\n",
       "    </tr>\n",
       "    <tr>\n",
       "      <th>4</th>\n",
       "      <td>0</td>\n",
       "      <td>0</td>\n",
       "      <td>0</td>\n",
       "      <td>0</td>\n",
       "      <td>0</td>\n",
       "      <td>0</td>\n",
       "      <td>0</td>\n",
       "      <td>0</td>\n",
       "      <td>0</td>\n",
       "      <td>0</td>\n",
       "      <td>...</td>\n",
       "      <td>0</td>\n",
       "      <td>0</td>\n",
       "      <td>0</td>\n",
       "      <td>0</td>\n",
       "      <td>0</td>\n",
       "      <td>0</td>\n",
       "      <td>0</td>\n",
       "      <td>0</td>\n",
       "      <td>0</td>\n",
       "      <td>cl_357040854</td>\n",
       "    </tr>\n",
       "    <tr>\n",
       "      <th>5</th>\n",
       "      <td>0</td>\n",
       "      <td>0</td>\n",
       "      <td>0</td>\n",
       "      <td>0</td>\n",
       "      <td>0</td>\n",
       "      <td>0</td>\n",
       "      <td>0</td>\n",
       "      <td>0</td>\n",
       "      <td>0</td>\n",
       "      <td>0</td>\n",
       "      <td>...</td>\n",
       "      <td>0</td>\n",
       "      <td>0</td>\n",
       "      <td>0</td>\n",
       "      <td>0</td>\n",
       "      <td>0</td>\n",
       "      <td>0</td>\n",
       "      <td>0</td>\n",
       "      <td>0</td>\n",
       "      <td>0</td>\n",
       "      <td>cl_357034477</td>\n",
       "    </tr>\n",
       "  </tbody>\n",
       "</table>\n",
       "<p>5 rows × 426 columns</p>\n",
       "</div>"
      ],
      "text/plain": [
       "   go_105  go_45454  go_9401  go_45227  go_42128  go_6189  go_19354  go_71722  \\\n",
       "0       1         0        0         0         0        0         0         0   \n",
       "1       0         1        0         0         0        0         0         0   \n",
       "3       0         0        0         0         0        0         0         0   \n",
       "4       0         0        0         0         0        0         0         0   \n",
       "5       0         0        0         0         0        0         0         0   \n",
       "\n",
       "   go_9231  go_19544  ...  go_30150  go_244  go_45122  go_48484  go_71929  \\\n",
       "0        0         0  ...         0       0         0         0         0   \n",
       "1        0         0  ...         0       0         0         0         0   \n",
       "3        0         0  ...         0       0         0         0         0   \n",
       "4        0         0  ...         0       0         0         0         0   \n",
       "5        0         0  ...         0       0         0         0         0   \n",
       "\n",
       "   go_48478  go_32007  go_30041  go_71630       cluster  \n",
       "0         0         0         0         0  cl_357047299  \n",
       "1         0         0         0         0  cl_357037677  \n",
       "3         0         0         0         0  cl_366996869  \n",
       "4         0         0         0         0  cl_357040854  \n",
       "5         0         0         0         0  cl_357034477  \n",
       "\n",
       "[5 rows x 426 columns]"
      ]
     },
     "execution_count": 24,
     "metadata": {},
     "output_type": "execute_result"
    }
   ],
   "source": [
    "Y.head()"
   ]
  },
  {
   "cell_type": "code",
   "execution_count": 25,
   "metadata": {},
   "outputs": [],
   "source": [
    "with pd.HDFStore('evo/Y.h5',  mode='w') as store:\n",
    "    store.put('Y', Y)"
   ]
  },
  {
   "cell_type": "code",
   "execution_count": null,
   "metadata": {},
   "outputs": [],
   "source": []
  },
  {
   "cell_type": "code",
   "execution_count": 26,
   "metadata": {},
   "outputs": [],
   "source": [
    "X = pd.read_csv('evo/calculated_features.txt.gz',sep='\\t')"
   ]
  },
  {
   "cell_type": "code",
   "execution_count": 27,
   "metadata": {},
   "outputs": [
    {
     "data": {
      "text/html": [
       "<div>\n",
       "<style scoped>\n",
       "    .dataframe tbody tr th:only-of-type {\n",
       "        vertical-align: middle;\n",
       "    }\n",
       "\n",
       "    .dataframe tbody tr th {\n",
       "        vertical-align: top;\n",
       "    }\n",
       "\n",
       "    .dataframe thead th {\n",
       "        text-align: right;\n",
       "    }\n",
       "</style>\n",
       "<table border=\"1\" class=\"dataframe\">\n",
       "  <thead>\n",
       "    <tr style=\"text-align: right;\">\n",
       "      <th></th>\n",
       "      <th>cluster_is</th>\n",
       "      <th>A</th>\n",
       "      <th>Acidic</th>\n",
       "      <th>Aliphatic</th>\n",
       "      <th>Aromatic</th>\n",
       "      <th>Basic</th>\n",
       "      <th>C</th>\n",
       "      <th>Charged</th>\n",
       "      <th>D</th>\n",
       "      <th>E</th>\n",
       "      <th>...</th>\n",
       "      <th>pseb_H2_l_14</th>\n",
       "      <th>pseb_H2_l_15</th>\n",
       "      <th>pseb_H2_l_16</th>\n",
       "      <th>pseb_H2_l_17</th>\n",
       "      <th>pseb_H2_l_18</th>\n",
       "      <th>pseb_H2_l_19</th>\n",
       "      <th>pseb_H2_l_20</th>\n",
       "      <th>relative_codone_usage</th>\n",
       "      <th>repeated</th>\n",
       "      <th>tmlen</th>\n",
       "    </tr>\n",
       "  </thead>\n",
       "  <tbody>\n",
       "    <tr>\n",
       "      <th>0</th>\n",
       "      <td>cl_375983605</td>\n",
       "      <td>0.05</td>\n",
       "      <td>3.571</td>\n",
       "      <td>25.893</td>\n",
       "      <td>6.250</td>\n",
       "      <td>18.750</td>\n",
       "      <td>0.04</td>\n",
       "      <td>22.321</td>\n",
       "      <td>0.02</td>\n",
       "      <td>0.02</td>\n",
       "      <td>...</td>\n",
       "      <td>-8.513</td>\n",
       "      <td>20.836</td>\n",
       "      <td>11.376</td>\n",
       "      <td>-15.557</td>\n",
       "      <td>0.234</td>\n",
       "      <td>26.643</td>\n",
       "      <td>9.762</td>\n",
       "      <td>0.464467</td>\n",
       "      <td>1</td>\n",
       "      <td>0</td>\n",
       "    </tr>\n",
       "    <tr>\n",
       "      <th>1</th>\n",
       "      <td>cl_375983606</td>\n",
       "      <td>0.07</td>\n",
       "      <td>6.780</td>\n",
       "      <td>30.508</td>\n",
       "      <td>10.169</td>\n",
       "      <td>18.644</td>\n",
       "      <td>0.02</td>\n",
       "      <td>25.424</td>\n",
       "      <td>0.05</td>\n",
       "      <td>0.02</td>\n",
       "      <td>...</td>\n",
       "      <td>-19.173</td>\n",
       "      <td>14.249</td>\n",
       "      <td>9.855</td>\n",
       "      <td>-18.432</td>\n",
       "      <td>-9.204</td>\n",
       "      <td>0.403</td>\n",
       "      <td>13.919</td>\n",
       "      <td>0.360894</td>\n",
       "      <td>1</td>\n",
       "      <td>0</td>\n",
       "    </tr>\n",
       "    <tr>\n",
       "      <th>2</th>\n",
       "      <td>cl_375983604</td>\n",
       "      <td>0.17</td>\n",
       "      <td>5.310</td>\n",
       "      <td>44.248</td>\n",
       "      <td>10.619</td>\n",
       "      <td>8.850</td>\n",
       "      <td>0.02</td>\n",
       "      <td>14.159</td>\n",
       "      <td>0.04</td>\n",
       "      <td>0.01</td>\n",
       "      <td>...</td>\n",
       "      <td>2.466</td>\n",
       "      <td>-0.382</td>\n",
       "      <td>-5.318</td>\n",
       "      <td>7.595</td>\n",
       "      <td>1.659</td>\n",
       "      <td>11.356</td>\n",
       "      <td>1.623</td>\n",
       "      <td>0.335273</td>\n",
       "      <td>1</td>\n",
       "      <td>24</td>\n",
       "    </tr>\n",
       "    <tr>\n",
       "      <th>3</th>\n",
       "      <td>cl_375983602</td>\n",
       "      <td>0.06</td>\n",
       "      <td>1.961</td>\n",
       "      <td>11.765</td>\n",
       "      <td>11.765</td>\n",
       "      <td>1.961</td>\n",
       "      <td>0.00</td>\n",
       "      <td>3.922</td>\n",
       "      <td>0.02</td>\n",
       "      <td>0.00</td>\n",
       "      <td>...</td>\n",
       "      <td>-1.114</td>\n",
       "      <td>2.396</td>\n",
       "      <td>2.498</td>\n",
       "      <td>4.174</td>\n",
       "      <td>-4.670</td>\n",
       "      <td>2.988</td>\n",
       "      <td>2.033</td>\n",
       "      <td>0.197222</td>\n",
       "      <td>0</td>\n",
       "      <td>0</td>\n",
       "    </tr>\n",
       "    <tr>\n",
       "      <th>4</th>\n",
       "      <td>cl_375983358</td>\n",
       "      <td>0.06</td>\n",
       "      <td>16.418</td>\n",
       "      <td>27.761</td>\n",
       "      <td>13.433</td>\n",
       "      <td>13.731</td>\n",
       "      <td>0.00</td>\n",
       "      <td>30.149</td>\n",
       "      <td>0.07</td>\n",
       "      <td>0.09</td>\n",
       "      <td>...</td>\n",
       "      <td>6.242</td>\n",
       "      <td>-2.736</td>\n",
       "      <td>4.083</td>\n",
       "      <td>-3.102</td>\n",
       "      <td>-1.884</td>\n",
       "      <td>2.836</td>\n",
       "      <td>6.543</td>\n",
       "      <td>0.701023</td>\n",
       "      <td>2</td>\n",
       "      <td>0</td>\n",
       "    </tr>\n",
       "  </tbody>\n",
       "</table>\n",
       "<p>5 rows × 62 columns</p>\n",
       "</div>"
      ],
      "text/plain": [
       "     cluster_is     A  Acidic  Aliphatic  Aromatic   Basic     C  Charged  \\\n",
       "0  cl_375983605  0.05   3.571     25.893     6.250  18.750  0.04   22.321   \n",
       "1  cl_375983606  0.07   6.780     30.508    10.169  18.644  0.02   25.424   \n",
       "2  cl_375983604  0.17   5.310     44.248    10.619   8.850  0.02   14.159   \n",
       "3  cl_375983602  0.06   1.961     11.765    11.765   1.961  0.00    3.922   \n",
       "4  cl_375983358  0.06  16.418     27.761    13.433  13.731  0.00   30.149   \n",
       "\n",
       "      D     E  ...  pseb_H2_l_14  pseb_H2_l_15  pseb_H2_l_16  pseb_H2_l_17  \\\n",
       "0  0.02  0.02  ...        -8.513        20.836        11.376       -15.557   \n",
       "1  0.05  0.02  ...       -19.173        14.249         9.855       -18.432   \n",
       "2  0.04  0.01  ...         2.466        -0.382        -5.318         7.595   \n",
       "3  0.02  0.00  ...        -1.114         2.396         2.498         4.174   \n",
       "4  0.07  0.09  ...         6.242        -2.736         4.083        -3.102   \n",
       "\n",
       "   pseb_H2_l_18  pseb_H2_l_19  pseb_H2_l_20  relative_codone_usage  repeated  \\\n",
       "0         0.234        26.643         9.762               0.464467         1   \n",
       "1        -9.204         0.403        13.919               0.360894         1   \n",
       "2         1.659        11.356         1.623               0.335273         1   \n",
       "3        -4.670         2.988         2.033               0.197222         0   \n",
       "4        -1.884         2.836         6.543               0.701023         2   \n",
       "\n",
       "   tmlen  \n",
       "0      0  \n",
       "1      0  \n",
       "2     24  \n",
       "3      0  \n",
       "4      0  \n",
       "\n",
       "[5 rows x 62 columns]"
      ]
     },
     "execution_count": 27,
     "metadata": {},
     "output_type": "execute_result"
    }
   ],
   "source": [
    "X.head()\n",
    "#Y = Y[Y['cluster'].isin(clust.loc[:,0].tolist())]"
   ]
  },
  {
   "cell_type": "code",
   "execution_count": 28,
   "metadata": {},
   "outputs": [],
   "source": [
    "X = X[X['cluster_is'].isin(clust.loc[:,0].tolist())]"
   ]
  },
  {
   "cell_type": "code",
   "execution_count": 29,
   "metadata": {},
   "outputs": [
    {
     "data": {
      "text/plain": [
       "((19165021, 62), (19165021, 426))"
      ]
     },
     "execution_count": 29,
     "metadata": {},
     "output_type": "execute_result"
    }
   ],
   "source": [
    "X.shape, Y.shape"
   ]
  },
  {
   "cell_type": "code",
   "execution_count": null,
   "metadata": {},
   "outputs": [],
   "source": [
    "with pd.HDFStore('evo/X.h5',  mode='w') as store:\n",
    "    store.put('X', X)"
   ]
  },
  {
   "cell_type": "code",
   "execution_count": null,
   "metadata": {},
   "outputs": [],
   "source": []
  }
 ],
 "metadata": {
  "kernelspec": {
   "display_name": "Python 3",
   "language": "python",
   "name": "python3"
  },
  "language_info": {
   "codemirror_mode": {
    "name": "ipython",
    "version": 3
   },
   "file_extension": ".py",
   "mimetype": "text/x-python",
   "name": "python",
   "nbconvert_exporter": "python",
   "pygments_lexer": "ipython3",
   "version": "3.6.7"
  }
 },
 "nbformat": 4,
 "nbformat_minor": 2
}
