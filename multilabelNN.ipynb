{
  "nbformat": 4,
  "nbformat_minor": 0,
  "metadata": {
    "colab": {
      "name": "multilabelNN.ipynb",
      "version": "0.3.2",
      "provenance": []
    },
    "language_info": {
      "codemirror_mode": {
        "name": "ipython",
        "version": 3
      },
      "file_extension": ".py",
      "mimetype": "text/x-python",
      "name": "python",
      "nbconvert_exporter": "python",
      "pygments_lexer": "ipython3",
      "version": "3.6.7"
    },
    "kernelspec": {
      "name": "python3",
      "display_name": "Python 3"
    },
    "accelerator": "GPU"
  },
  "cells": [
    {
      "cell_type": "code",
      "metadata": {
        "id": "p-bX2nVg7aZ1",
        "colab_type": "code",
        "outputId": "67b981fb-9734-44a4-826d-08e6de83f263",
        "colab": {
          "base_uri": "https://localhost:8080/",
          "height": 125
        }
      },
      "source": [
        "from google.colab import drive\n",
        "drive.mount('/content/drive')\n"
      ],
      "execution_count": 1,
      "outputs": [
        {
          "output_type": "stream",
          "text": [
            "Go to this URL in a browser: https://accounts.google.com/o/oauth2/auth?client_id=947318989803-6bn6qk8qdgf4n4g3pfee6491hc0brc4i.apps.googleusercontent.com&redirect_uri=urn%3Aietf%3Awg%3Aoauth%3A2.0%3Aoob&scope=email%20https%3A%2F%2Fwww.googleapis.com%2Fauth%2Fdocs.test%20https%3A%2F%2Fwww.googleapis.com%2Fauth%2Fdrive%20https%3A%2F%2Fwww.googleapis.com%2Fauth%2Fdrive.photos.readonly%20https%3A%2F%2Fwww.googleapis.com%2Fauth%2Fpeopleapi.readonly&response_type=code\n",
            "\n",
            "Enter your authorization code:\n",
            "··········\n",
            "Mounted at /content/drive\n"
          ],
          "name": "stdout"
        }
      ]
    },
    {
      "cell_type": "code",
      "metadata": {
        "id": "n9eehAO87r0E",
        "colab_type": "code",
        "outputId": "43fce85b-9849-4690-9005-c470e6a27df5",
        "colab": {
          "base_uri": "https://localhost:8080/",
          "height": 34
        }
      },
      "source": [
        "!ls \"/content/drive/My Drive/evodata\""
      ],
      "execution_count": 3,
      "outputs": [
        {
          "output_type": "stream",
          "text": [
            "X1.h5  Y1.h5\n"
          ],
          "name": "stdout"
        }
      ]
    },
    {
      "cell_type": "code",
      "metadata": {
        "id": "4HC58bKM8GR5",
        "colab_type": "code",
        "outputId": "94902056-7bc1-4f25-e692-5296771d85c8",
        "colab": {
          "base_uri": "https://localhost:8080/",
          "height": 34
        }
      },
      "source": [
        "!mkdir data"
      ],
      "execution_count": 0,
      "outputs": [
        {
          "output_type": "stream",
          "text": [
            "mkdir: cannot create directory ‘data’: File exists\n"
          ],
          "name": "stdout"
        }
      ]
    },
    {
      "cell_type": "code",
      "metadata": {
        "id": "vmOd_Orf8Ks3",
        "colab_type": "code",
        "colab": {}
      },
      "source": [
        "!cp \"/content/drive/My Drive/evodata/Y1.h5\" data/"
      ],
      "execution_count": 0,
      "outputs": []
    },
    {
      "cell_type": "code",
      "metadata": {
        "id": "Q0fQ7ti_88Nl",
        "colab_type": "code",
        "colab": {}
      },
      "source": [
        "!cp \"/content/drive/My Drive/evodata/X1.h5\" data/"
      ],
      "execution_count": 0,
      "outputs": []
    },
    {
      "cell_type": "code",
      "metadata": {
        "id": "YBnbLOE084aw",
        "colab_type": "code",
        "outputId": "ac273f6b-2c50-4148-97fa-f6fe7cac8055",
        "colab": {
          "base_uri": "https://localhost:8080/",
          "height": 34
        }
      },
      "source": [
        "!ls data"
      ],
      "execution_count": 0,
      "outputs": [
        {
          "output_type": "stream",
          "text": [
            "X1.h5  Y1.h5\n"
          ],
          "name": "stdout"
        }
      ]
    },
    {
      "cell_type": "code",
      "metadata": {
        "id": "8C9RbLRl-jjw",
        "colab_type": "code",
        "colab": {}
      },
      "source": [
        "!chmod 777 data/X1.h5"
      ],
      "execution_count": 0,
      "outputs": []
    },
    {
      "cell_type": "code",
      "metadata": {
        "id": "c0DnYjfO-oYs",
        "colab_type": "code",
        "colab": {}
      },
      "source": [
        "!chmod 777 data/Y1.h5"
      ],
      "execution_count": 0,
      "outputs": []
    },
    {
      "cell_type": "code",
      "metadata": {
        "id": "M3bvyB34-4LC",
        "colab_type": "code",
        "outputId": "2e9f4d36-5268-42cd-8bfa-0487b22bf667",
        "colab": {
          "base_uri": "https://localhost:8080/",
          "height": 105
        }
      },
      "source": [
        "# import numpy as np\n",
        "# np.__version__\n",
        "!pip install scikit-multilearn\n",
        "!pip install numpy==1.15.4"
      ],
      "execution_count": 2,
      "outputs": [
        {
          "output_type": "stream",
          "text": [
            "Collecting scikit-multilearn\n",
            "\u001b[?25l  Downloading https://files.pythonhosted.org/packages/bb/1f/e6ff649c72a1cdf2c7a1d31eb21705110ce1c5d3e7e26b2cc300e1637272/scikit_multilearn-0.2.0-py3-none-any.whl (89kB)\n",
            "\r\u001b[K     |███▊                            | 10kB 23.0MB/s eta 0:00:01\r\u001b[K     |███████▍                        | 20kB 2.1MB/s eta 0:00:01\r\u001b[K     |███████████                     | 30kB 3.1MB/s eta 0:00:01\r\u001b[K     |██████████████▊                 | 40kB 2.1MB/s eta 0:00:01\r\u001b[K     |██████████████████▍             | 51kB 2.5MB/s eta 0:00:01\r\u001b[K     |██████████████████████          | 61kB 3.0MB/s eta 0:00:01\r\u001b[K     |█████████████████████████▊      | 71kB 3.5MB/s eta 0:00:01\r\u001b[K     |█████████████████████████████▍  | 81kB 4.0MB/s eta 0:00:01\r\u001b[K     |████████████████████████████████| 92kB 4.2MB/s \n",
            "\u001b[?25hInstalling collected packages: scikit-multilearn\n",
            "Successfully installed scikit-multilearn-0.2.0\n"
          ],
          "name": "stdout"
        }
      ]
    },
    {
      "cell_type": "code",
      "metadata": {
        "id": "Ulm9pAjQ9e4B",
        "colab_type": "code",
        "outputId": "bdca298a-51af-46ed-b4c9-936a8b0a55bb",
        "colab": {
          "base_uri": "https://localhost:8080/",
          "height": 105
        }
      },
      "source": [
        ""
      ],
      "execution_count": 0,
      "outputs": [
        {
          "output_type": "stream",
          "text": [
            "Collecting scikit-multilearn\n",
            "\u001b[?25l  Downloading https://files.pythonhosted.org/packages/bb/1f/e6ff649c72a1cdf2c7a1d31eb21705110ce1c5d3e7e26b2cc300e1637272/scikit_multilearn-0.2.0-py3-none-any.whl (89kB)\n",
            "\r\u001b[K     |███▊                            | 10kB 23.9MB/s eta 0:00:01\r\u001b[K     |███████▍                        | 20kB 2.1MB/s eta 0:00:01\r\u001b[K     |███████████                     | 30kB 3.1MB/s eta 0:00:01\r\u001b[K     |██████████████▊                 | 40kB 2.1MB/s eta 0:00:01\r\u001b[K     |██████████████████▍             | 51kB 2.5MB/s eta 0:00:01\r\u001b[K     |██████████████████████          | 61kB 3.0MB/s eta 0:00:01\r\u001b[K     |█████████████████████████▊      | 71kB 3.5MB/s eta 0:00:01\r\u001b[K     |█████████████████████████████▍  | 81kB 4.0MB/s eta 0:00:01\r\u001b[K     |████████████████████████████████| 92kB 4.2MB/s \n",
            "\u001b[?25hInstalling collected packages: scikit-multilearn\n",
            "Successfully installed scikit-multilearn-0.2.0\n"
          ],
          "name": "stdout"
        }
      ]
    },
    {
      "cell_type": "code",
      "metadata": {
        "id": "mQtnWwGl8tnJ",
        "colab_type": "code",
        "outputId": "0aebb9da-d2a3-4bd4-9b33-06724b5b22d1",
        "colab": {
          "base_uri": "https://localhost:8080/",
          "height": 72
        }
      },
      "source": [
        "import pandas as pd\n",
        "import numpy as np\n",
        "from torch.autograd import Variable\n",
        "from skmultilearn.problem_transform import LabelPowerset\n",
        "from collections import Counter\n",
        "from sklearn.datasets import make_classification\n",
        "from imblearn.over_sampling import RandomOverSampler\n",
        "import torch.nn.functional as F\n",
        "from sklearn.model_selection import train_test_split\n",
        "import torch\n",
        "import torch.nn as nn\n",
        "from torch.utils.data import Dataset, DataLoader\n",
        "from sklearn.metrics import roc_auc_score\n",
        "from sklearn.metrics import f1_score\n",
        "# from skmultilearn.problem_transform import LabelPowerset"
      ],
      "execution_count": 3,
      "outputs": [
        {
          "output_type": "stream",
          "text": [
            "/usr/local/lib/python3.6/dist-packages/sklearn/externals/six.py:31: DeprecationWarning: The module is deprecated in version 0.21 and will be removed in version 0.23 since we've dropped support for Python 2.7. Please rely on the official version of six (https://pypi.org/project/six/).\n",
            "  \"(https://pypi.org/project/six/).\", DeprecationWarning)\n"
          ],
          "name": "stderr"
        }
      ]
    },
    {
      "cell_type": "code",
      "metadata": {
        "id": "lyoFjC0a9-Uc",
        "colab_type": "code",
        "colab": {}
      },
      "source": [
        "go_terms_to_classify = ['go_9401', 'go_45454']"
      ],
      "execution_count": 0,
      "outputs": []
    },
    {
      "cell_type": "code",
      "metadata": {
        "id": "ahz9XAhS-Ngm",
        "colab_type": "code",
        "colab": {}
      },
      "source": [
        "with pd.HDFStore('/content/drive/My Drive/evodata/Y1.h5',  mode='r') as store:\n",
        "    Y = store.select('Y')\n",
        "\n",
        "with pd.HDFStore('/content/drive/My Drive/evodata/X1.h5',  mode='r') as store:\n",
        "    X = store.select('X')"
      ],
      "execution_count": 0,
      "outputs": []
    },
    {
      "cell_type": "code",
      "metadata": {
        "id": "u6dnb-4r7c_v",
        "colab_type": "code",
        "colab": {}
      },
      "source": [
        "X['InclusionBodiesProbPos'] = (X['InclusionBodiesProbability']>=0)*X['InclusionBodiesProbability']\n",
        "X['InclusionBodiesProbNeg'] = (X['InclusionBodiesProbability']<0)*X['InclusionBodiesProbability']\n",
        "\n",
        "\n",
        "def location_type_numeric(x1):\n",
        "    if x1 == '0':\n",
        "        return 1\n",
        "    elif x1 == 'SignalP_gram_plus_S':\n",
        "        return 2\n",
        "    elif x1 == 'SignalP_gram_minus_S':\n",
        "        return 3\n",
        "    elif x1 == 'T4SEpre_bpbAac_T4SE':\n",
        "        return 4\n",
        "    elif x1 == 'hmmsearch_Tat':\n",
        "        return 5\n",
        "    elif x1 == 'T3_MM_T3SS':\n",
        "        return 6\n",
        "    elif x1 == 'SignalP_gram_plus_S':\n",
        "        return 7\n",
        "    elif x1 == 'hmmsearch_T6S':\n",
        "        return 8\n",
        "    elif x1 == 'hmmsearch_T1S':\n",
        "        return 9\n",
        "    else:\n",
        "        raise Exception(x1)\n",
        "\n",
        "X['loc_type_numeric'] = X['loc_type'].apply(location_type_numeric)\n",
        "\n",
        "\n"
      ],
      "execution_count": 0,
      "outputs": []
    },
    {
      "cell_type": "code",
      "metadata": {
        "id": "1QCIa2Ib_3LF",
        "colab_type": "code",
        "colab": {}
      },
      "source": [
        "Y.sort_values('cluster', inplace=True)\n",
        "X.sort_values('cluster_is', inplace=True)\n",
        "\n",
        "Y.drop('cluster', inplace=True,axis=1)\n",
        "X.drop(['cluster_is', 'InclusionBodiesProbability', 'loc_type' ], inplace=True,axis=1)\n",
        "\n"
      ],
      "execution_count": 0,
      "outputs": []
    },
    {
      "cell_type": "code",
      "metadata": {
        "id": "Ea-Dkkrpo3t1",
        "colab_type": "code",
        "colab": {}
      },
      "source": [
        "labels_on_sums = Y.sum(axis=0)\n",
        "labels_on_sums.sort_values(ascending=False, inplace=True)"
      ],
      "execution_count": 0,
      "outputs": []
    },
    {
      "cell_type": "code",
      "metadata": {
        "id": "PiCL2a1lo_2Z",
        "colab_type": "code",
        "colab": {}
      },
      "source": [
        "go_terms_to_classify = list(labels_on_sums[0:10].keys())"
      ],
      "execution_count": 0,
      "outputs": []
    },
    {
      "cell_type": "code",
      "metadata": {
        "id": "Y3jmhXXxgPuK",
        "colab_type": "code",
        "colab": {}
      },
      "source": [
        "Y = Y[go_terms_to_classify] if go_terms_to_classify is not None else Y"
      ],
      "execution_count": 0,
      "outputs": []
    },
    {
      "cell_type": "code",
      "metadata": {
        "id": "QIN2iQa07aZ6",
        "colab_type": "code",
        "colab": {}
      },
      "source": [
        "X_train, X_test, y_train, y_test = train_test_split(X, Y, test_size=0.3, random_state=42)"
      ],
      "execution_count": 0,
      "outputs": []
    },
    {
      "cell_type": "code",
      "metadata": {
        "id": "fUepQFxWATSL",
        "colab_type": "code",
        "colab": {}
      },
      "source": [
        "# lp = LabelPowerset()\n",
        "# yt = lp.transform(y_train)\n",
        "# rus = RandomOverSampler(random_state=42)\n",
        "# X_res, y_res = rus.fit_resample(X_train.values, yt)\n",
        "\n",
        "X_res = X_train.values\n",
        "y_res = y_train.values\n"
      ],
      "execution_count": 0,
      "outputs": []
    },
    {
      "cell_type": "code",
      "metadata": {
        "id": "9tM2ySuWfqgg",
        "colab_type": "code",
        "colab": {
          "base_uri": "https://localhost:8080/",
          "height": 34
        },
        "outputId": "1803c624-a33f-4290-d880-b9c1dc89ccfa"
      },
      "source": [
        "# y_res = lp.inverse_transform(y_res)\n",
        "# y_res = y_res.todense()\n",
        "# y_res =np.array(y_res)\n"
      ],
      "execution_count": 17,
      "outputs": [
        {
          "output_type": "execute_result",
          "data": {
            "text/plain": [
              "(1770190, 10)"
            ]
          },
          "metadata": {
            "tags": []
          },
          "execution_count": 17
        }
      ]
    },
    {
      "cell_type": "code",
      "metadata": {
        "id": "7YHwgYi67aZ9",
        "colab_type": "code",
        "colab": {}
      },
      "source": [
        "\n",
        "class DatasetLoader(Dataset):\n",
        "\n",
        "    def __init__(self, x_df, y_df):\n",
        "        self.x_df = x_df\n",
        "        self.y_df = y_df\n",
        "\n",
        "\n",
        "    def __len__(self):\n",
        "        return len(self.x_df)\n",
        "\n",
        "    def __getitem__(self, idx):\n",
        "        x = self.x_df[idx]\n",
        "        #y = self.y_df.iloc[idx]['go_9401']\n",
        "        y = self.y_df[idx]\n",
        "\n",
        "        return x.reshape(-1), y.reshape(-1)\n",
        "\n",
        "        # return np.asarray(x.tolist()).reshape(-1), np.asarray([y]).reshape(-1)\n",
        "\n",
        "\n",
        "train_dataset_loader = DatasetLoader(X_res, y_res)\n",
        "train_loader = DataLoader(train_dataset_loader, batch_size=100, shuffle=True, num_workers=0)\n",
        "\n",
        "\n",
        "test_dataset_loader = DatasetLoader(X_test.values, y_test.values)\n",
        "test_loader = DataLoader(test_dataset_loader, batch_size=100, shuffle=True, num_workers=0)\n",
        "\n",
        "\n",
        "class GoTermNN(nn.Module):\n",
        "    def __init__(self, num_classes, num_inputs=62,  dropout_prob=0.3):\n",
        "        super(GoTermNN, self).__init__()\n",
        "        self.pipe = nn.Sequential(\n",
        "            nn.Linear(num_inputs, 50),\n",
        "            nn.ReLU(),\n",
        "\n",
        "            nn.Linear(50, 20),\n",
        "            nn.ReLU(True),\n",
        "\n",
        "            nn.Linear(20, num_classes)\n",
        "        )\n",
        "\n",
        "\n",
        "    def forward(self, x):\n",
        "        return self.pipe(x)\n",
        "\n",
        "\n",
        "\n"
      ],
      "execution_count": 0,
      "outputs": []
    },
    {
      "cell_type": "code",
      "metadata": {
        "id": "uoPLuCSFB6eZ",
        "colab_type": "code",
        "colab": {}
      },
      "source": [
        "\n",
        "def train(model, device, train_loader, optimizer, epoch, writer, criterion):\n",
        "    model.train()\n",
        "    running_loss = 0.0\n",
        "    running_correct = 0.0\n",
        "    calc_count = 0.0\n",
        "    labels_list = []\n",
        "    scores_list = []\n",
        "    loss1 = 0.1\n",
        "    for x, (images, labels) in enumerate(train_loader):\n",
        "        images = images.float().to(device)\n",
        "        labels = labels.float().to(device)\n",
        "        optimizer.zero_grad()\n",
        "\n",
        "        images = Variable(images)\n",
        "        labels = Variable(labels)\n",
        "\n",
        "        output = model(images)\n",
        "        calc_count += output.data.shape[0]\n",
        "        _, pred = torch.max(output.data, 1)\n",
        "        loss = criterion(output, labels)\n",
        "\n",
        "        #out1 = F.sigmoid(output)\n",
        "        out1 = torch.sigmoid(output)\n",
        "        \n",
        "        labels_list.extend(labels.cpu().numpy().tolist())\n",
        "        scores_list.extend(out1.data.tolist())\n",
        "\n",
        "        current_loss = loss.item()\n",
        "        running_loss += current_loss\n",
        "\n",
        "        loss1 += current_loss\n",
        "\n",
        "        if x > 0 and  x %10000 == 0:\n",
        "            \n",
        "            \n",
        "            a1 = np.asarray(scores_list)\n",
        "#             a1[a1 < 0.5] = 0\n",
        "#             a1[a1 >= 0.5] = 1\n",
        "\n",
        "            #f1_res = f1_score(a1.astype(np.int32), np.asarray(labels_list), average='weighted')\n",
        "            \n",
        "            f1_res_w =  f1_score(np.asarray(labels_list), a1 > 0.5, average=\"weighted\")\n",
        "\n",
        "            \n",
        "            print('f1_res_w {0}'.format(f1_res_w))\n",
        "            \n",
        "#             f1_res_s=  f1_score(np.asarray(labels_list), a1 > 0.5, average=\"samples\")\n",
        "\n",
        "            \n",
        "#             print('f1_res_s {0}'.format(f1_res_s))\n",
        "            \n",
        "            auc = roc_auc_score(np.asarray(labels_list, dtype='float32'), np.asarray(scores_list, dtype='float32'))\n",
        "            \n",
        "            #f1_res = f1_score(np.asarray(labels_list, dtype='float32'), np.asarray(scores_list, dtype='float32'))\n",
        "            #print('f1 {0}'.format(f1_res))\n",
        "            print('auc {0}'.format(auc))\n",
        "            print('loss1 {0}'.format(loss1))\n",
        "\n",
        "            labels_list = []\n",
        "            scores_list = []\n",
        "            \n",
        "            loss1 = 0.0\n",
        "\n",
        "\n",
        "        #writer.add_scalar('train_loss', loss.item())\n",
        "\n",
        "        loss.backward()\n",
        "        optimizer.step()\n",
        "\n",
        "    accuracy = round(running_correct / calc_count, 4)\n",
        "    #writer.add_scalar('train_accuracy', accuracy)\n",
        "    return round(running_loss / calc_count, 4), accuracy\n",
        "\n",
        "\n",
        "def test(model, device, test_loader, epoch, writer, criterion):\n",
        "    model.eval()\n",
        "    running_correct = 0.0\n",
        "    running_loss = 0.0\n",
        "    calc_count = 0.0\n",
        "    labels_list = []\n",
        "    scores_list = []\n",
        "    with torch.no_grad():\n",
        "        for images, labels in test_loader:\n",
        "            images = images.float().to(device)\n",
        "            labels = labels.float().to(device)\n",
        "\n",
        "            images = Variable(images)\n",
        "            labels = Variable(labels)\n",
        "            outputs = model(images)\n",
        "            loss = criterion(outputs, labels)\n",
        "            calc_count += outputs.data.shape[0]\n",
        "            \n",
        "            running_loss += loss.item()\n",
        "\n",
        "            #out1 = F.sigmoid(outputs)\n",
        "            \n",
        "            out1 = torch.sigmoid(outputs)\n",
        "            labels_list.extend(labels.cpu().numpy().tolist())\n",
        "            scores_list.extend(out1.data.tolist())\n",
        "\n",
        "    auc = roc_auc_score(np.asarray(labels_list, dtype='float32'), np.asarray(scores_list, dtype='float32'))\n",
        "    \n",
        "    \n",
        "    a1 = np.asarray(scores_list)\n",
        "#     a1[a1 <= 0.5] = 0\n",
        "#     a1[a1 > 0.5] = 1\n",
        "\n",
        "    #f1_res = f1_score(a1.astype(np.int32), np.asarray(labels_list), average='weighted')\n",
        "\n",
        "    #print('f1 {0}'.format(f1_res))\n",
        "    \n",
        "    f1_res_w =  f1_score(np.asarray(labels_list), a1 > 0.5, average=\"weighted\")\n",
        "\n",
        "            \n",
        "    print('test f1_res_w {0}'.format(f1_res_w))\n",
        "            \n",
        "#     f1_res_s=  f1_score(np.asarray(labels_list), a1 > 0.5, average=\"samples\")\n",
        "\n",
        "#     print('test f1_res_s {0}'.format(f1_res_s))\n",
        "            \n",
        "            \n",
        "    \n",
        "    #f1_res = f1_score(np.asarray(labels_list, dtype='float32'), np.asarray(scores_list, dtype='float32'))\n",
        "    #print('test f1 {0}'.format(f1_res))\n",
        "      \n",
        "    print('test auc {0}'.format(auc))\n",
        "    accuracy = round(running_correct / calc_count, 4)\n",
        "\n",
        "    return round(running_loss / calc_count, 4), accuracy"
      ],
      "execution_count": 0,
      "outputs": []
    },
    {
      "cell_type": "code",
      "metadata": {
        "id": "RIi3xZoB7aZ_",
        "colab_type": "code",
        "outputId": "551f2326-ac2a-4f3a-99f5-1d701be35baa",
        "colab": {
          "base_uri": "https://localhost:8080/",
          "height": 52
        }
      },
      "source": [
        "\n",
        "\n",
        "from datetime import datetime\n",
        "\n",
        "use_cuda = torch.cuda.is_available()\n",
        "\n",
        "torch.manual_seed(999)\n",
        "\n",
        "if use_cuda:\n",
        "    torch.cuda.manual_seed(999)\n",
        "    torch.cuda.manual_seed_all(999)\n",
        "\n",
        "print('use_cuda = {}'.format(use_cuda))\n",
        "device = torch.device(\"cuda\" if use_cuda else \"cpu\")\n",
        "\n",
        "\n",
        "criterion = torch.nn.BCEWithLogitsLoss().to(device)\n",
        "\n",
        "torch.manual_seed(999)\n",
        "now = datetime.now()\n",
        "\n",
        "model = GoTermNN(y_res.shape[1]).to(device)\n",
        "\n",
        "optimizer = torch.optim.Adam(model.parameters(), lr=0.001)\n",
        "\n",
        "for epoch in range(20):\n",
        "    print('epoch={}'.format(epoch))\n",
        "    train_loss, train_correct = train(model, device, train_loader, optimizer, epoch, None, criterion)\n",
        "    print('train {0} - {1}'.format(train_loss, train_correct))\n",
        "    test_loss, test_correct = test(model, device, test_loader, epoch, None, criterion)\n",
        "\n",
        "    print('test {0} - {1}'.format(test_loss, test_correct))\n",
        "\n",
        "\n",
        "\n",
        "print(1)\n",
        "\n"
      ],
      "execution_count": 0,
      "outputs": [
        {
          "output_type": "stream",
          "text": [
            "use_cuda = True\n",
            "epoch=0\n"
          ],
          "name": "stdout"
        }
      ]
    },
    {
      "cell_type": "code",
      "metadata": {
        "id": "RqATpc3Z7aaD",
        "colab_type": "code",
        "outputId": "0aa56b1b-10ea-4f68-fad5-aba0e61d2997",
        "colab": {
          "base_uri": "https://localhost:8080/",
          "height": 34
        }
      },
      "source": [
        "y_true = np.array([[1,0,0,0], [1,1,0,0], [1,1,1,1]])\n",
        "y_pred = np.array([[1,0,0,0], [1,1,1,0], [1,1,1,1]])\n",
        "\n",
        "f1_score(y_true=y_true, y_pred=y_pred, average='weighted')"
      ],
      "execution_count": 0,
      "outputs": [
        {
          "output_type": "execute_result",
          "data": {
            "text/plain": [
              "0.9523809523809524"
            ]
          },
          "metadata": {
            "tags": []
          },
          "execution_count": 31
        }
      ]
    },
    {
      "cell_type": "code",
      "metadata": {
        "id": "AvZYMlwc7aaG",
        "colab_type": "code",
        "colab": {}
      },
      "source": [
        ""
      ],
      "execution_count": 0,
      "outputs": []
    },
    {
      "cell_type": "code",
      "metadata": {
        "id": "pmrzaRtG7aaI",
        "colab_type": "code",
        "colab": {}
      },
      "source": [
        ""
      ],
      "execution_count": 0,
      "outputs": []
    },
    {
      "cell_type": "code",
      "metadata": {
        "id": "BTcR0SUF7aaK",
        "colab_type": "code",
        "colab": {}
      },
      "source": [
        ""
      ],
      "execution_count": 0,
      "outputs": []
    },
    {
      "cell_type": "code",
      "metadata": {
        "id": "85zqQwA87aaN",
        "colab_type": "code",
        "colab": {}
      },
      "source": [
        ""
      ],
      "execution_count": 0,
      "outputs": []
    },
    {
      "cell_type": "code",
      "metadata": {
        "id": "sNyfrsR17aaU",
        "colab_type": "code",
        "colab": {}
      },
      "source": [
        ""
      ],
      "execution_count": 0,
      "outputs": []
    },
    {
      "cell_type": "code",
      "metadata": {
        "id": "pHPAxegb7aaY",
        "colab_type": "code",
        "colab": {}
      },
      "source": [
        ""
      ],
      "execution_count": 0,
      "outputs": []
    },
    {
      "cell_type": "code",
      "metadata": {
        "id": "4fGefFjO7aac",
        "colab_type": "code",
        "outputId": "92c1a113-28ff-4aec-f363-3e997e755c68",
        "colab": {}
      },
      "source": [
        ""
      ],
      "execution_count": 0,
      "outputs": [
        {
          "output_type": "stream",
          "text": [
            "use_cuda = False\n"
          ],
          "name": "stdout"
        }
      ]
    },
    {
      "cell_type": "code",
      "metadata": {
        "id": "a2eWe3ea7aag",
        "colab_type": "code",
        "colab": {}
      },
      "source": [
        ""
      ],
      "execution_count": 0,
      "outputs": []
    },
    {
      "cell_type": "code",
      "metadata": {
        "id": "2xDkl4dI7aai",
        "colab_type": "code",
        "colab": {}
      },
      "source": [
        ""
      ],
      "execution_count": 0,
      "outputs": []
    },
    {
      "cell_type": "code",
      "metadata": {
        "id": "EjR5q7ui7aak",
        "colab_type": "code",
        "colab": {}
      },
      "source": [
        ""
      ],
      "execution_count": 0,
      "outputs": []
    }
  ]
}