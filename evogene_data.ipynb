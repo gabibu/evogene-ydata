{
 "cells": [
  {
   "cell_type": "code",
   "execution_count": 1,
   "metadata": {},
   "outputs": [],
   "source": [
    "import pandas as pd\n"
   ]
  },
  {
   "cell_type": "code",
   "execution_count": 1,
   "metadata": {},
   "outputs": [
    {
     "name": "stdout",
     "output_type": "stream",
     "text": [
      "calculated_features.txt      cluster2go_data.cols.txt\r\n",
      "calculated_features.txt.gz   cluster2go_data.npz\r\n",
      "calculated_features.txt1.gz  cluster2go_data.rows.txt\r\n"
     ]
    }
   ],
   "source": [
    "!ls evo"
   ]
  },
  {
   "cell_type": "code",
   "execution_count": 3,
   "metadata": {},
   "outputs": [],
   "source": [
    "from scipy import sparse\n",
    "import pandas as pd\n",
    "def join_files(features_file_path, columns_files_path, row_file_path, rows_column_name):\n",
    "    print('load npz')\n",
    "    feattures_sparse_matrix = sparse.load_npz(features_file_path)\n",
    "    print('todense')\n",
    "    features_array = feattures_sparse_matrix.todense()\n",
    "    \n",
    "    columns_df = pd.read_csv(columns_files_path, names=['feature'])\n",
    "    print('columns_df')\n",
    "    \n",
    "    columns = columns_df['feature'].tolist()\n",
    "    print('columns')\n",
    "    \n",
    "    index = pd.Index(range(features_array.shape[0]))\n",
    "    features_df = pd.DataFrame(data=features_array, index=index, columns=columns)\n",
    "    print('features_df')\n",
    "    rows_df = pd.read_csv(row_file_path, names=[rows_column_name])\n",
    "    print('rows_df')\n",
    "    rows_df.index = range(features_array.shape[0])\n",
    "    all_data_df = pd.merge(rows_df, features_df, left_index=True, right_index=True)\n",
    "    print('merge')\n",
    "    \n",
    "    return all_data_df\n",
    "    \n",
    "    \n",
    "    "
   ]
  },
  {
   "cell_type": "code",
   "execution_count": 2,
   "metadata": {},
   "outputs": [],
   "source": [
    "cluster_to_go_df = join_files(\"evo/cluster2go_data.npz\", 'evo/cluster2go_data.cols.txt', 'evo/cluster2go_data.rows.txt',\n",
    "          'gene')\n"
   ]
  },
  {
   "cell_type": "code",
   "execution_count": null,
   "metadata": {},
   "outputs": [],
   "source": [
    "prot_ipr_df = join_files(\"evo/prot_ipr.npz\", 'evo/prot_ipr.cols.txt', 'evo/prot_ipr.rows.txt',\n",
    "          'gene')\n"
   ]
  },
  {
   "cell_type": "code",
   "execution_count": null,
   "metadata": {},
   "outputs": [],
   "source": [
    "prot_location_df = join_files(\"evo/prot_localization_data.npz\", 'evo/prot_localization_data.cols.txt', 'evo/prot_localization_data.rows.txt',\n",
    "          'gene')\n"
   ]
  },
  {
   "cell_type": "code",
   "execution_count": null,
   "metadata": {},
   "outputs": [],
   "source": [
    "prot_function_df = join_files(\"evo/prot_function_data.npz\", 'evo/prot_function_data.cols.txt', 'evo/prot_function_data.rows.txt',\n",
    "          'gene')\n"
   ]
  },
  {
   "cell_type": "code",
   "execution_count": null,
   "metadata": {},
   "outputs": [],
   "source": [
    "calculated_features_df = pd.read_csv('/home/ubuntu/evo/calculated_features.txt', header=0, delimiter='\\t')"
   ]
  }
 ],
 "metadata": {
  "kernelspec": {
   "display_name": "Python 3",
   "language": "python",
   "name": "python3"
  },
  "language_info": {
   "codemirror_mode": {
    "name": "ipython",
    "version": 3
   },
   "file_extension": ".py",
   "mimetype": "text/x-python",
   "name": "python",
   "nbconvert_exporter": "python",
   "pygments_lexer": "ipython3",
   "version": "3.6.7"
  }
 },
 "nbformat": 4,
 "nbformat_minor": 2
}
