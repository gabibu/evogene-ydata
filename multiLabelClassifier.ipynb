{
 "cells": [
  {
   "cell_type": "code",
   "execution_count": 1,
   "metadata": {},
   "outputs": [],
   "source": [
    "import pandas as pd"
   ]
  },
  {
   "cell_type": "code",
   "execution_count": 2,
   "metadata": {},
   "outputs": [],
   "source": [
    "with pd.HDFStore('evo/Y1.h5',  mode='r') as store:\n",
    "    Y = store.select('Y')\n",
    "    \n",
    "with pd.HDFStore('evo/X1.h5',  mode='r') as store:\n",
    "    X = store.select('X')    "
   ]
  },
  {
   "cell_type": "code",
   "execution_count": 4,
   "metadata": {},
   "outputs": [],
   "source": [
    "X['InclusionBodiesProbPos'] = (X['InclusionBodiesProbability']>=0)*X['InclusionBodiesProbability']\n",
    "X['InclusionBodiesProbNeg'] = (X['InclusionBodiesProbability']<0)*X['InclusionBodiesProbability']\n",
    "\n",
    "def location_type_numeric(x1):\n",
    "    \n",
    "    if x1 == '0':\n",
    "        return 1\n",
    "    elif x1 == 'SignalP_gram_plus_S':\n",
    "        return 2\n",
    "    elif x1 == 'SignalP_gram_minus_S':\n",
    "        return 3\n",
    "    elif x1 == 'T4SEpre_bpbAac_T4SE':\n",
    "        return 4\n",
    "    elif x1 == 'hmmsearch_Tat':\n",
    "        return 5\n",
    "    elif x1 == 'T3_MM_T3SS':\n",
    "        return 6\n",
    "    elif x1 == 'SignalP_gram_plus_S':\n",
    "        return 7\n",
    "    elif x1 == 'hmmsearch_T6S':\n",
    "        return 8\n",
    "    elif x1 == 'hmmsearch_T1S':\n",
    "        return 9\n",
    "    else:\n",
    "        raise Exception(x1)\n",
    "        \n",
    "X['loc_type_numeric'] = X['loc_type'].apply(location_type_numeric)\n"
   ]
  },
  {
   "cell_type": "code",
   "execution_count": 5,
   "metadata": {},
   "outputs": [],
   "source": [
    "Y.sort_values('cluster', inplace=True)\n",
    "X.sort_values('cluster_is', inplace=True)"
   ]
  },
  {
   "cell_type": "code",
   "execution_count": 6,
   "metadata": {},
   "outputs": [],
   "source": [
    "Y.drop('cluster', inplace=True,axis=1)\n",
    "X.drop(['cluster_is', 'InclusionBodiesProbability', 'loc_type' ], inplace=True,axis=1)"
   ]
  },
  {
   "cell_type": "code",
   "execution_count": 7,
   "metadata": {},
   "outputs": [],
   "source": [
    "labels_on_sums = Y.sum(axis=0)\n",
    "labels_on_sums.sort_values(ascending=False, inplace=True)"
   ]
  },
  {
   "cell_type": "code",
   "execution_count": 8,
   "metadata": {},
   "outputs": [],
   "source": [
    "x1 = labels_on_sums > 1000"
   ]
  },
  {
   "cell_type": "code",
   "execution_count": 14,
   "metadata": {},
   "outputs": [
    {
     "data": {
      "text/plain": [
       "go_9401      True\n",
       "go_45454     True\n",
       "go_105       True\n",
       "go_6265      True\n",
       "go_9231      True\n",
       "go_9103      True\n",
       "go_6284      True\n",
       "go_6189      True\n",
       "go_6098      True\n",
       "go_6207      True\n",
       "go_44780     True\n",
       "go_6094      True\n",
       "go_9405      True\n",
       "go_15991     True\n",
       "go_9234      True\n",
       "go_9102      True\n",
       "go_15628     True\n",
       "go_9245      True\n",
       "go_9432      True\n",
       "go_70526     True\n",
       "go_917       True\n",
       "go_6535      True\n",
       "go_162       True\n",
       "go_42128     True\n",
       "go_15979     True\n",
       "go_6614      True\n",
       "go_9088      True\n",
       "go_19277     True\n",
       "go_46854     True\n",
       "go_6108      True\n",
       "            ...  \n",
       "go_16973    False\n",
       "go_6948     False\n",
       "go_7172     False\n",
       "go_32007    False\n",
       "go_42273    False\n",
       "go_7131     False\n",
       "go_55       False\n",
       "go_16559    False\n",
       "go_30150    False\n",
       "go_244      False\n",
       "go_48478    False\n",
       "go_45122    False\n",
       "go_48484    False\n",
       "go_71929    False\n",
       "go_30041    False\n",
       "go_7128     False\n",
       "go_2084     False\n",
       "go_6689     False\n",
       "go_52007    False\n",
       "go_7304     False\n",
       "go_31424    False\n",
       "go_60271    False\n",
       "go_6654     False\n",
       "go_19510    False\n",
       "go_71596    False\n",
       "go_7399     False\n",
       "go_31144    False\n",
       "go_43335    False\n",
       "go_7283     False\n",
       "go_71630    False\n",
       "Length: 425, dtype: bool"
      ]
     },
     "execution_count": 14,
     "metadata": {},
     "output_type": "execute_result"
    }
   ],
   "source": [
    "x1"
   ]
  },
  {
   "cell_type": "code",
   "execution_count": 9,
   "metadata": {},
   "outputs": [],
   "source": [
    "valid_labels = labels_on_sums[x1]"
   ]
  },
  {
   "cell_type": "code",
   "execution_count": 15,
   "metadata": {},
   "outputs": [
    {
     "data": {
      "text/plain": [
       "go_9401       168838\n",
       "go_45454      134060\n",
       "go_105         83332\n",
       "go_6265        69816\n",
       "go_9231        66419\n",
       "go_9103        62113\n",
       "go_6284        61957\n",
       "go_6189        56105\n",
       "go_6098        49534\n",
       "go_6207        46057\n",
       "go_44780       43153\n",
       "go_6094        42789\n",
       "go_9405        39203\n",
       "go_15991       39192\n",
       "go_9234        32044\n",
       "go_9102        31701\n",
       "go_15628       30616\n",
       "go_9245        29815\n",
       "go_9432        28998\n",
       "go_70526       28228\n",
       "go_917         27548\n",
       "go_6535        27144\n",
       "go_162         25012\n",
       "go_42128       24790\n",
       "go_15979       24317\n",
       "go_6614        24168\n",
       "go_9088        22494\n",
       "go_19277       22091\n",
       "go_46854       21729\n",
       "go_6108        21230\n",
       "               ...  \n",
       "go_9436         1709\n",
       "go_10501        1669\n",
       "go_51391        1653\n",
       "go_9271         1629\n",
       "go_46411        1604\n",
       "go_6102         1598\n",
       "go_1901106      1595\n",
       "go_6212         1592\n",
       "go_46392        1570\n",
       "go_70395        1559\n",
       "go_9772         1541\n",
       "go_15757        1538\n",
       "go_48473        1459\n",
       "go_6809         1408\n",
       "go_6120         1312\n",
       "go_9758         1305\n",
       "go_71918        1286\n",
       "go_19251        1262\n",
       "go_71945        1223\n",
       "go_8612         1215\n",
       "go_9447         1215\n",
       "go_34229        1185\n",
       "go_15974        1174\n",
       "go_6742         1118\n",
       "go_71766        1103\n",
       "go_19746        1084\n",
       "go_51692        1060\n",
       "go_50787        1049\n",
       "go_51365        1044\n",
       "go_6203         1019\n",
       "Length: 245, dtype: int64"
      ]
     },
     "execution_count": 15,
     "metadata": {},
     "output_type": "execute_result"
    }
   ],
   "source": [
    "valid_labels"
   ]
  },
  {
   "cell_type": "code",
   "execution_count": 11,
   "metadata": {},
   "outputs": [],
   "source": [
    "columsn_to_drop = [col for col in Y.columns if  col not in valid_labels]"
   ]
  },
  {
   "cell_type": "code",
   "execution_count": 12,
   "metadata": {},
   "outputs": [],
   "source": [
    "Y.drop(columsn_to_drop, inplace=True,axis=1)"
   ]
  },
  {
   "cell_type": "code",
   "execution_count": 31,
   "metadata": {},
   "outputs": [
    {
     "data": {
      "text/plain": [
       "(2528843, 245)"
      ]
     },
     "execution_count": 31,
     "metadata": {},
     "output_type": "execute_result"
    }
   ],
   "source": [
    "Y.shape"
   ]
  },
  {
   "cell_type": "code",
   "execution_count": 13,
   "metadata": {},
   "outputs": [],
   "source": [
    "from sklearn.model_selection import train_test_split\n",
    "X_train, X_test, y_train, y_test = train_test_split(X, Y, test_size=0.3, random_state=42)"
   ]
  },
  {
   "cell_type": "code",
   "execution_count": 33,
   "metadata": {},
   "outputs": [],
   "source": [
    "import xgboost as xgb\n",
    "from sklearn.metrics import mean_squared_error\n",
    "import pandas as pd\n",
    "import numpy as np"
   ]
  },
  {
   "cell_type": "code",
   "execution_count": 13,
   "metadata": {},
   "outputs": [],
   "source": [
    "alg = xgb.XGBClassifier(learning_rate=0.1, n_estimators=140, max_depth=5,\n",
    "                        min_child_weight=3, gamma=0.2, subsample=0.6, colsample_bytree=1.0,\n",
    "                        objective='binary:logistic', nthread=4, scale_pos_weight=1, seed=27)"
   ]
  },
  {
   "cell_type": "code",
   "execution_count": 14,
   "metadata": {},
   "outputs": [
    {
     "data": {
      "text/plain": [
       "XGBClassifier(base_score=0.5, booster='gbtree', colsample_bylevel=1,\n",
       "              colsample_bynode=1, colsample_bytree=1.0, gamma=0.2,\n",
       "              learning_rate=0.1, max_delta_step=0, max_depth=5,\n",
       "              min_child_weight=3, missing=None, n_estimators=140, n_jobs=1,\n",
       "              nthread=4, objective='binary:logistic', random_state=0,\n",
       "              reg_alpha=0, reg_lambda=1, scale_pos_weight=1, seed=27,\n",
       "              silent=None, subsample=0.6, verbosity=1)"
      ]
     },
     "execution_count": 14,
     "metadata": {},
     "output_type": "execute_result"
    }
   ],
   "source": [
    "alg.fit(X_train, y_train['go_9401'], eval_metric='auc')"
   ]
  },
  {
   "cell_type": "code",
   "execution_count": 15,
   "metadata": {},
   "outputs": [],
   "source": [
    "predictions = alg.predict(X_test)\n",
    "pred_proba = alg.predict_proba(X_test)[:, 1]"
   ]
  },
  {
   "cell_type": "code",
   "execution_count": 14,
   "metadata": {},
   "outputs": [
    {
     "name": "stderr",
     "output_type": "stream",
     "text": [
      "/home/ubuntu/.local/lib/python3.6/site-packages/sklearn/externals/six.py:31: DeprecationWarning: The module is deprecated in version 0.21 and will be removed in version 0.23 since we've dropped support for Python 2.7. Please rely on the official version of six (https://pypi.org/project/six/).\n",
      "  \"(https://pypi.org/project/six/).\", DeprecationWarning)\n"
     ]
    }
   ],
   "source": [
    "from sklearn import metrics\n",
    "from sklearn.metrics import f1_score, roc_auc_score\n",
    "from imblearn.metrics import classification_report_imbalanced\n",
    "\n",
    "\n"
   ]
  },
  {
   "cell_type": "code",
   "execution_count": 18,
   "metadata": {},
   "outputs": [
    {
     "name": "stdout",
     "output_type": "stream",
     "text": [
      "acc : 0.9851\n",
      "AUC 0.991573\n",
      "F1 Score : 0.880308\n"
     ]
    }
   ],
   "source": [
    "print(\"acc : %.4g\" % metrics.accuracy_score(y_test['go_9401'], predictions))\n",
    "print(\"roc_auc %f\" % metrics.roc_auc_score(y_test['go_9401'], pred_proba))\n",
    "print(\"F1 Score : %f\" % metrics.f1_score(y_test['go_9401'], predictions))"
   ]
  },
  {
   "cell_type": "code",
   "execution_count": 25,
   "metadata": {},
   "outputs": [
    {
     "name": "stdout",
     "output_type": "stream",
     "text": [
      "****************************************************\n",
      "label go_9401 with rows 168838\n",
      "acc : 0.9851\n",
      "AUC 0.991573\n",
      "F1 Score : 0.880308\n",
      "                   pre       rec       spe        f1       geo       iba       sup\n",
      "\n",
      "          0       0.99      1.00      0.82      0.99      0.90      0.83    707882\n",
      "          1       0.95      0.82      1.00      0.88      0.90      0.80     50771\n",
      "\n",
      "avg / total       0.98      0.99      0.83      0.98      0.90      0.83    758653\n",
      "\n",
      "****************************************************\n",
      "****************************************************\n",
      "label go_45454 with rows 134060\n",
      "acc : 0.9827\n",
      "AUC 0.583986\n",
      "F1 Score : 0.815040\n",
      "                   pre       rec       spe        f1       geo       iba       sup\n",
      "\n",
      "          0       0.98      1.00      0.72      0.99      0.85      0.74    718273\n",
      "          1       0.94      0.72      1.00      0.82      0.85      0.70     40380\n",
      "\n",
      "avg / total       0.98      0.98      0.73      0.98      0.85      0.73    758653\n",
      "\n",
      "****************************************************\n",
      "****************************************************\n",
      "label go_105 with rows 83332\n",
      "acc : 0.9873\n",
      "AUC 0.405943\n",
      "F1 Score : 0.764062\n",
      "                   pre       rec       spe        f1       geo       iba       sup\n",
      "\n",
      "          0       0.99      1.00      0.62      0.99      0.79      0.65    733750\n",
      "          1       0.98      0.62      1.00      0.76      0.79      0.60     24903\n",
      "\n",
      "avg / total       0.99      0.99      0.64      0.99      0.79      0.65    758653\n",
      "\n",
      "****************************************************\n",
      "****************************************************\n",
      "label go_6265 with rows 69816\n",
      "acc : 0.9964\n",
      "AUC 0.490112\n",
      "F1 Score : 0.933586\n",
      "                   pre       rec       spe        f1       geo       iba       sup\n",
      "\n",
      "          0       1.00      1.00      0.89      1.00      0.94      0.90    737453\n",
      "          1       0.98      0.89      1.00      0.93      0.94      0.88     21200\n",
      "\n",
      "avg / total       1.00      1.00      0.90      1.00      0.94      0.90    758653\n",
      "\n",
      "****************************************************\n",
      "****************************************************\n",
      "label go_9231 with rows 66419\n",
      "acc : 0.988\n",
      "AUC 0.413849\n",
      "F1 Score : 0.708447\n",
      "                   pre       rec       spe        f1       geo       iba       sup\n",
      "\n",
      "          0       0.99      1.00      0.56      0.99      0.75      0.58    738737\n",
      "          1       0.97      0.56      1.00      0.71      0.75      0.53     19916\n",
      "\n",
      "avg / total       0.99      0.99      0.57      0.99      0.75      0.58    758653\n",
      "\n",
      "****************************************************\n"
     ]
    },
    {
     "ename": "KeyboardInterrupt",
     "evalue": "",
     "output_type": "error",
     "traceback": [
      "\u001b[0;31m---------------------------------------------------------------------------\u001b[0m",
      "\u001b[0;31mKeyboardInterrupt\u001b[0m                         Traceback (most recent call last)",
      "\u001b[0;32m<ipython-input-25-fca0850d5865>\u001b[0m in \u001b[0;36m<module>\u001b[0;34m()\u001b[0m\n\u001b[1;32m      4\u001b[0m                         objective='binary:logistic', nthread=4, scale_pos_weight=1, seed=27)\n\u001b[1;32m      5\u001b[0m \u001b[0;34m\u001b[0m\u001b[0m\n\u001b[0;32m----> 6\u001b[0;31m     \u001b[0malg\u001b[0m\u001b[0;34m.\u001b[0m\u001b[0mfit\u001b[0m\u001b[0;34m(\u001b[0m\u001b[0mX_train\u001b[0m\u001b[0;34m,\u001b[0m \u001b[0my_train\u001b[0m\u001b[0;34m[\u001b[0m\u001b[0mlabel\u001b[0m\u001b[0;34m]\u001b[0m\u001b[0;34m,\u001b[0m \u001b[0meval_metric\u001b[0m\u001b[0;34m=\u001b[0m\u001b[0;34m'auc'\u001b[0m\u001b[0;34m)\u001b[0m\u001b[0;34m\u001b[0m\u001b[0;34m\u001b[0m\u001b[0m\n\u001b[0m\u001b[1;32m      7\u001b[0m     \u001b[0mpredictions\u001b[0m \u001b[0;34m=\u001b[0m \u001b[0malg\u001b[0m\u001b[0;34m.\u001b[0m\u001b[0mpredict\u001b[0m\u001b[0;34m(\u001b[0m\u001b[0mX_test\u001b[0m\u001b[0;34m)\u001b[0m\u001b[0;34m\u001b[0m\u001b[0;34m\u001b[0m\u001b[0m\n\u001b[1;32m      8\u001b[0m     \u001b[0mprint\u001b[0m\u001b[0;34m(\u001b[0m\u001b[0;34m'****************************************************'\u001b[0m\u001b[0;34m)\u001b[0m\u001b[0;34m\u001b[0m\u001b[0;34m\u001b[0m\u001b[0m\n",
      "\u001b[0;32m/home/ubuntu/.local/lib/python3.6/site-packages/xgboost/sklearn.py\u001b[0m in \u001b[0;36mfit\u001b[0;34m(self, X, y, sample_weight, eval_set, eval_metric, early_stopping_rounds, verbose, xgb_model, sample_weight_eval_set, callbacks)\u001b[0m\n\u001b[1;32m    730\u001b[0m                               \u001b[0mevals_result\u001b[0m\u001b[0;34m=\u001b[0m\u001b[0mevals_result\u001b[0m\u001b[0;34m,\u001b[0m \u001b[0mobj\u001b[0m\u001b[0;34m=\u001b[0m\u001b[0mobj\u001b[0m\u001b[0;34m,\u001b[0m \u001b[0mfeval\u001b[0m\u001b[0;34m=\u001b[0m\u001b[0mfeval\u001b[0m\u001b[0;34m,\u001b[0m\u001b[0;34m\u001b[0m\u001b[0;34m\u001b[0m\u001b[0m\n\u001b[1;32m    731\u001b[0m                               \u001b[0mverbose_eval\u001b[0m\u001b[0;34m=\u001b[0m\u001b[0mverbose\u001b[0m\u001b[0;34m,\u001b[0m \u001b[0mxgb_model\u001b[0m\u001b[0;34m=\u001b[0m\u001b[0mxgb_model\u001b[0m\u001b[0;34m,\u001b[0m\u001b[0;34m\u001b[0m\u001b[0;34m\u001b[0m\u001b[0m\n\u001b[0;32m--> 732\u001b[0;31m                               callbacks=callbacks)\n\u001b[0m\u001b[1;32m    733\u001b[0m \u001b[0;34m\u001b[0m\u001b[0m\n\u001b[1;32m    734\u001b[0m         \u001b[0mself\u001b[0m\u001b[0;34m.\u001b[0m\u001b[0mobjective\u001b[0m \u001b[0;34m=\u001b[0m \u001b[0mxgb_options\u001b[0m\u001b[0;34m[\u001b[0m\u001b[0;34m\"objective\"\u001b[0m\u001b[0;34m]\u001b[0m\u001b[0;34m\u001b[0m\u001b[0;34m\u001b[0m\u001b[0m\n",
      "\u001b[0;32m/home/ubuntu/.local/lib/python3.6/site-packages/xgboost/training.py\u001b[0m in \u001b[0;36mtrain\u001b[0;34m(params, dtrain, num_boost_round, evals, obj, feval, maximize, early_stopping_rounds, evals_result, verbose_eval, xgb_model, callbacks, learning_rates)\u001b[0m\n\u001b[1;32m    214\u001b[0m                            \u001b[0mevals\u001b[0m\u001b[0;34m=\u001b[0m\u001b[0mevals\u001b[0m\u001b[0;34m,\u001b[0m\u001b[0;34m\u001b[0m\u001b[0;34m\u001b[0m\u001b[0m\n\u001b[1;32m    215\u001b[0m                            \u001b[0mobj\u001b[0m\u001b[0;34m=\u001b[0m\u001b[0mobj\u001b[0m\u001b[0;34m,\u001b[0m \u001b[0mfeval\u001b[0m\u001b[0;34m=\u001b[0m\u001b[0mfeval\u001b[0m\u001b[0;34m,\u001b[0m\u001b[0;34m\u001b[0m\u001b[0;34m\u001b[0m\u001b[0m\n\u001b[0;32m--> 216\u001b[0;31m                            xgb_model=xgb_model, callbacks=callbacks)\n\u001b[0m\u001b[1;32m    217\u001b[0m \u001b[0;34m\u001b[0m\u001b[0m\n\u001b[1;32m    218\u001b[0m \u001b[0;34m\u001b[0m\u001b[0m\n",
      "\u001b[0;32m/home/ubuntu/.local/lib/python3.6/site-packages/xgboost/training.py\u001b[0m in \u001b[0;36m_train_internal\u001b[0;34m(params, dtrain, num_boost_round, evals, obj, feval, xgb_model, callbacks)\u001b[0m\n\u001b[1;32m     72\u001b[0m         \u001b[0;31m# Skip the first update if it is a recovery step.\u001b[0m\u001b[0;34m\u001b[0m\u001b[0;34m\u001b[0m\u001b[0;34m\u001b[0m\u001b[0m\n\u001b[1;32m     73\u001b[0m         \u001b[0;32mif\u001b[0m \u001b[0mversion\u001b[0m \u001b[0;34m%\u001b[0m \u001b[0;36m2\u001b[0m \u001b[0;34m==\u001b[0m \u001b[0;36m0\u001b[0m\u001b[0;34m:\u001b[0m\u001b[0;34m\u001b[0m\u001b[0;34m\u001b[0m\u001b[0m\n\u001b[0;32m---> 74\u001b[0;31m             \u001b[0mbst\u001b[0m\u001b[0;34m.\u001b[0m\u001b[0mupdate\u001b[0m\u001b[0;34m(\u001b[0m\u001b[0mdtrain\u001b[0m\u001b[0;34m,\u001b[0m \u001b[0mi\u001b[0m\u001b[0;34m,\u001b[0m \u001b[0mobj\u001b[0m\u001b[0;34m)\u001b[0m\u001b[0;34m\u001b[0m\u001b[0;34m\u001b[0m\u001b[0m\n\u001b[0m\u001b[1;32m     75\u001b[0m             \u001b[0mbst\u001b[0m\u001b[0;34m.\u001b[0m\u001b[0msave_rabit_checkpoint\u001b[0m\u001b[0;34m(\u001b[0m\u001b[0;34m)\u001b[0m\u001b[0;34m\u001b[0m\u001b[0;34m\u001b[0m\u001b[0m\n\u001b[1;32m     76\u001b[0m             \u001b[0mversion\u001b[0m \u001b[0;34m+=\u001b[0m \u001b[0;36m1\u001b[0m\u001b[0;34m\u001b[0m\u001b[0;34m\u001b[0m\u001b[0m\n",
      "\u001b[0;32m/home/ubuntu/.local/lib/python3.6/site-packages/xgboost/core.py\u001b[0m in \u001b[0;36mupdate\u001b[0;34m(self, dtrain, iteration, fobj)\u001b[0m\n\u001b[1;32m   1107\u001b[0m         \u001b[0;32mif\u001b[0m \u001b[0mfobj\u001b[0m \u001b[0;32mis\u001b[0m \u001b[0;32mNone\u001b[0m\u001b[0;34m:\u001b[0m\u001b[0;34m\u001b[0m\u001b[0;34m\u001b[0m\u001b[0m\n\u001b[1;32m   1108\u001b[0m             _check_call(_LIB.XGBoosterUpdateOneIter(self.handle, ctypes.c_int(iteration),\n\u001b[0;32m-> 1109\u001b[0;31m                                                     dtrain.handle))\n\u001b[0m\u001b[1;32m   1110\u001b[0m         \u001b[0;32melse\u001b[0m\u001b[0;34m:\u001b[0m\u001b[0;34m\u001b[0m\u001b[0;34m\u001b[0m\u001b[0m\n\u001b[1;32m   1111\u001b[0m             \u001b[0mpred\u001b[0m \u001b[0;34m=\u001b[0m \u001b[0mself\u001b[0m\u001b[0;34m.\u001b[0m\u001b[0mpredict\u001b[0m\u001b[0;34m(\u001b[0m\u001b[0mdtrain\u001b[0m\u001b[0;34m)\u001b[0m\u001b[0;34m\u001b[0m\u001b[0;34m\u001b[0m\u001b[0m\n",
      "\u001b[0;31mKeyboardInterrupt\u001b[0m: "
     ]
    }
   ],
   "source": [
    "for label, count in labels_on_sums.items():\n",
    "    alg = xgb.XGBClassifier(learning_rate=0.1, n_estimators=140, max_depth=5,\n",
    "                        min_child_weight=3, gamma=0.2, subsample=0.6, colsample_bytree=1.0,\n",
    "                        objective='binary:logistic', nthread=4, scale_pos_weight=1, seed=27)\n",
    "    \n",
    "    alg.fit(X_train, y_train[label], eval_metric='auc')\n",
    "    predictions = alg.predict(X_test)\n",
    "    print('****************************************************')\n",
    "    print('label {0} with rows {1}'.format(label, count))\n",
    "    \n",
    "    print(\"acc : %.4g\" % metrics.accuracy_score(y_test[label], predictions))\n",
    "    print(\"AUC %f\" % metrics.roc_auc_score(y_test[label], pred_proba))\n",
    "    print(\"F1 Score : %f\" % metrics.f1_score(y_test[label], predictions))\n",
    "    print(classification_report_imbalanced(y_test[label], predictions))\n",
    "\n",
    "    print('****************************************************')\n",
    "    \n",
    "    "
   ]
  },
  {
   "cell_type": "code",
   "execution_count": 35,
   "metadata": {},
   "outputs": [],
   "source": [
    "#chain classifier\n",
    "labels_order = []\n",
    "for label, count in valid_labels.items():\n",
    "    \n",
    "    my_index = y_train.columns.tolist().index(label)\n",
    "    labels_order.append(my_index)\n",
    "    "
   ]
  },
  {
   "cell_type": "code",
   "execution_count": null,
   "metadata": {},
   "outputs": [
    {
     "name": "stdout",
     "output_type": "stream",
     "text": [
      "1\n",
      "2\n",
      "3\n"
     ]
    }
   ],
   "source": [
    "# using classifier chains\n",
    "from skmultilearn.problem_transform import ClassifierChain\n",
    "from sklearn.naive_bayes import GaussianNB\n",
    "from sklearn.tree import DecisionTreeClassifier\n",
    "# initialize classifier chains multi-label classifier\n",
    "# with a gaussian naive bayes base classifier use any other classifier if u wish\n",
    "#classifier = ClassifierChain(GaussianNB())\n",
    "#classifier = ClassifierChain(DecisionTreeClassifier())\n",
    "\n",
    "print(1)\n",
    "algo = xgb.XGBClassifier(learning_rate=0.1, n_estimators=140, max_depth=5,\n",
    "                        min_child_weight=3, gamma=0.2, subsample=0.6, colsample_bytree=1.0,\n",
    "                        objective='binary:logistic', nthread=4, scale_pos_weight=1, seed=27)\n",
    "\n",
    "print(2)\n",
    "classifier = ClassifierChain(algo, order=labels_order)\n",
    "#classifier = ClassifierChain(algo)\n",
    "\n",
    "print(3)\n",
    "# train\n",
    "classifier.fit(X_train, y_train)\n",
    "print(4)"
   ]
  },
  {
   "cell_type": "code",
   "execution_count": 33,
   "metadata": {},
   "outputs": [
    {
     "data": {
      "text/plain": [
       "(2, 2)"
      ]
     },
     "execution_count": 33,
     "metadata": {},
     "output_type": "execute_result"
    }
   ],
   "source": [
    "X_train.ndim,y_train.ndim"
   ]
  },
  {
   "cell_type": "code",
   "execution_count": null,
   "metadata": {},
   "outputs": [],
   "source": [
    "# predict\n",
    "predictions = classifier.predict(x)\n",
    "accuracy_score(y,predictions)"
   ]
  }
 ],
 "metadata": {
  "kernelspec": {
   "display_name": "Python 3",
   "language": "python",
   "name": "python3"
  },
  "language_info": {
   "codemirror_mode": {
    "name": "ipython",
    "version": 3
   },
   "file_extension": ".py",
   "mimetype": "text/x-python",
   "name": "python",
   "nbconvert_exporter": "python",
   "pygments_lexer": "ipython3",
   "version": "3.6.7"
  }
 },
 "nbformat": 4,
 "nbformat_minor": 2
}
