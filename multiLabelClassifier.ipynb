{
  "nbformat": 4,
  "nbformat_minor": 0,
  "metadata": {
    "colab": {
      "name": "multiLabelClassifier.ipynb",
      "version": "0.3.2",
      "provenance": []
    },
    "language_info": {
      "codemirror_mode": {
        "name": "ipython",
        "version": 3
      },
      "file_extension": ".py",
      "mimetype": "text/x-python",
      "name": "python",
      "nbconvert_exporter": "python",
      "pygments_lexer": "ipython3",
      "version": "3.6.7"
    },
    "kernelspec": {
      "name": "python3",
      "display_name": "Python 3"
    },
    "accelerator": "GPU"
  },
  "cells": [
    {
      "cell_type": "code",
      "metadata": {
        "id": "7-SRj5O-53Xb",
        "colab_type": "code",
        "colab": {
          "base_uri": "https://localhost:8080/",
          "height": 125
        },
        "outputId": "a4dbd666-c900-41ef-cf90-16a451f900b8"
      },
      "source": [
        "from google.colab import drive\n",
        "drive.mount('/content/drive')\n"
      ],
      "execution_count": 2,
      "outputs": [
        {
          "output_type": "stream",
          "text": [
            "Go to this URL in a browser: https://accounts.google.com/o/oauth2/auth?client_id=947318989803-6bn6qk8qdgf4n4g3pfee6491hc0brc4i.apps.googleusercontent.com&redirect_uri=urn%3Aietf%3Awg%3Aoauth%3A2.0%3Aoob&scope=email%20https%3A%2F%2Fwww.googleapis.com%2Fauth%2Fdocs.test%20https%3A%2F%2Fwww.googleapis.com%2Fauth%2Fdrive%20https%3A%2F%2Fwww.googleapis.com%2Fauth%2Fdrive.photos.readonly%20https%3A%2F%2Fwww.googleapis.com%2Fauth%2Fpeopleapi.readonly&response_type=code\n",
            "\n",
            "Enter your authorization code:\n",
            "··········\n",
            "Mounted at /content/drive\n"
          ],
          "name": "stdout"
        }
      ]
    },
    {
      "cell_type": "code",
      "metadata": {
        "id": "J4gAoh-H6dUN",
        "colab_type": "code",
        "colab": {
          "base_uri": "https://localhost:8080/",
          "height": 34
        },
        "outputId": "72383945-2885-4ee0-8636-a542027fdf41"
      },
      "source": [
        "!ls \"/content/drive/My Drive/evodata\""
      ],
      "execution_count": 3,
      "outputs": [
        {
          "output_type": "stream",
          "text": [
            "X1.h5  Y1.h5\n"
          ],
          "name": "stdout"
        }
      ]
    },
    {
      "cell_type": "code",
      "metadata": {
        "id": "7lLlFw156dcR",
        "colab_type": "code",
        "colab": {}
      },
      "source": [
        "!mkdir data"
      ],
      "execution_count": 0,
      "outputs": []
    },
    {
      "cell_type": "code",
      "metadata": {
        "id": "6PCacOdj6dfa",
        "colab_type": "code",
        "colab": {}
      },
      "source": [
        "!cp \"/content/drive/My Drive/evodata/Y1.h5\" data/\n",
        "!cp \"/content/drive/My Drive/evodata/X1.h5\" data/"
      ],
      "execution_count": 0,
      "outputs": []
    },
    {
      "cell_type": "code",
      "metadata": {
        "id": "4gKhvi-Z6diN",
        "colab_type": "code",
        "colab": {
          "base_uri": "https://localhost:8080/",
          "height": 34
        },
        "outputId": "591a1e3a-1e72-4b5b-f6b0-f064611800f6"
      },
      "source": [
        "!ls data"
      ],
      "execution_count": 3,
      "outputs": [
        {
          "output_type": "stream",
          "text": [
            "X1.h5  Y1.h5\n"
          ],
          "name": "stdout"
        }
      ]
    },
    {
      "cell_type": "code",
      "metadata": {
        "id": "wJrznKMz6dkn",
        "colab_type": "code",
        "colab": {}
      },
      "source": [
        "!chmod 777 data/X1.h5\n",
        "!chmod 777 data/Y1.h5"
      ],
      "execution_count": 0,
      "outputs": []
    },
    {
      "cell_type": "code",
      "metadata": {
        "id": "FhrieSoW7DF9",
        "colab_type": "code",
        "colab": {
          "base_uri": "https://localhost:8080/",
          "height": 371
        },
        "outputId": "5fefc103-1903-4cca-d779-702c40850887"
      },
      "source": [
        "!pip install scikit-multilearn\n",
        "!pip install numpy==1.15.4"
      ],
      "execution_count": 8,
      "outputs": [
        {
          "output_type": "stream",
          "text": [
            "Collecting scikit-multilearn\n",
            "\u001b[?25l  Downloading https://files.pythonhosted.org/packages/bb/1f/e6ff649c72a1cdf2c7a1d31eb21705110ce1c5d3e7e26b2cc300e1637272/scikit_multilearn-0.2.0-py3-none-any.whl (89kB)\n",
            "\u001b[K     |████████████████████████████████| 92kB 3.2MB/s \n",
            "\u001b[?25hInstalling collected packages: scikit-multilearn\n",
            "Successfully installed scikit-multilearn-0.2.0\n",
            "Collecting numpy==1.15.4\n",
            "\u001b[?25l  Downloading https://files.pythonhosted.org/packages/ff/7f/9d804d2348471c67a7d8b5f84f9bc59fd1cefa148986f2b74552f8573555/numpy-1.15.4-cp36-cp36m-manylinux1_x86_64.whl (13.9MB)\n",
            "\u001b[K     |████████████████████████████████| 13.9MB 2.8MB/s \n",
            "\u001b[31mERROR: datascience 0.10.6 has requirement folium==0.2.1, but you'll have folium 0.8.3 which is incompatible.\u001b[0m\n",
            "\u001b[31mERROR: albumentations 0.1.12 has requirement imgaug<0.2.7,>=0.2.5, but you'll have imgaug 0.2.9 which is incompatible.\u001b[0m\n",
            "\u001b[?25hInstalling collected packages: numpy\n",
            "  Found existing installation: numpy 1.16.4\n",
            "    Uninstalling numpy-1.16.4:\n",
            "      Successfully uninstalled numpy-1.16.4\n",
            "Successfully installed numpy-1.15.4\n"
          ],
          "name": "stdout"
        },
        {
          "output_type": "display_data",
          "data": {
            "application/vnd.colab-display-data+json": {
              "pip_warning": {
                "packages": [
                  "numpy"
                ]
              }
            }
          },
          "metadata": {
            "tags": []
          }
        }
      ]
    },
    {
      "cell_type": "code",
      "metadata": {
        "id": "XwM9-I5O7HOA",
        "colab_type": "code",
        "colab": {
          "base_uri": "https://localhost:8080/",
          "height": 72
        },
        "outputId": "351a8879-7519-42e5-cbce-2d5c8194535e"
      },
      "source": [
        "import pandas as pd\n",
        "import numpy as np\n",
        "from torch.autograd import Variable\n",
        "from skmultilearn.problem_transform import LabelPowerset\n",
        "from collections import Counter\n",
        "from sklearn.datasets import make_classification\n",
        "from imblearn.over_sampling import RandomOverSampler\n",
        "import torch.nn.functional as F\n",
        "from sklearn.model_selection import train_test_split\n",
        "import torch\n",
        "import torch.nn as nn\n",
        "from torch.utils.data import Dataset, DataLoader\n",
        "from sklearn.metrics import roc_auc_score\n",
        "from sklearn.metrics import f1_score\n",
        "# from skmultilearn.problem_transform import LabelPowerset"
      ],
      "execution_count": 5,
      "outputs": [
        {
          "output_type": "stream",
          "text": [
            "/usr/local/lib/python3.6/dist-packages/sklearn/externals/six.py:31: DeprecationWarning: The module is deprecated in version 0.21 and will be removed in version 0.23 since we've dropped support for Python 2.7. Please rely on the official version of six (https://pypi.org/project/six/).\n",
            "  \"(https://pypi.org/project/six/).\", DeprecationWarning)\n"
          ],
          "name": "stderr"
        }
      ]
    },
    {
      "cell_type": "code",
      "metadata": {
        "id": "azCuXntC6dnj",
        "colab_type": "code",
        "colab": {
          "base_uri": "https://localhost:8080/",
          "height": 282
        },
        "outputId": "ff8618a7-9489-43b7-f690-85f8ae1eec75"
      },
      "source": [
        ""
      ],
      "execution_count": 12,
      "outputs": [
        {
          "output_type": "stream",
          "text": [
            "Collecting numpy==1.15.4\n",
            "\u001b[?25l  Downloading https://files.pythonhosted.org/packages/ff/7f/9d804d2348471c67a7d8b5f84f9bc59fd1cefa148986f2b74552f8573555/numpy-1.15.4-cp36-cp36m-manylinux1_x86_64.whl (13.9MB)\n",
            "\u001b[K     |████████████████████████████████| 13.9MB 8.7MB/s \n",
            "\u001b[31mERROR: datascience 0.10.6 has requirement folium==0.2.1, but you'll have folium 0.8.3 which is incompatible.\u001b[0m\n",
            "\u001b[31mERROR: albumentations 0.1.12 has requirement imgaug<0.2.7,>=0.2.5, but you'll have imgaug 0.2.9 which is incompatible.\u001b[0m\n",
            "\u001b[?25hInstalling collected packages: numpy\n",
            "  Found existing installation: numpy 1.16.4\n",
            "    Uninstalling numpy-1.16.4:\n",
            "      Successfully uninstalled numpy-1.16.4\n",
            "Successfully installed numpy-1.15.4\n"
          ],
          "name": "stdout"
        },
        {
          "output_type": "display_data",
          "data": {
            "application/vnd.colab-display-data+json": {
              "pip_warning": {
                "packages": [
                  "numpy"
                ]
              }
            }
          },
          "metadata": {
            "tags": []
          }
        }
      ]
    },
    {
      "cell_type": "code",
      "metadata": {
        "id": "OJx8pHl16dqG",
        "colab_type": "code",
        "colab": {}
      },
      "source": [
        "with pd.HDFStore(\"/content/drive/My Drive/evodata/Y1.h5\",  mode='r') as store:\n",
        "    Y = store.select('Y')\n",
        "\n",
        "with pd.HDFStore(\"/content/drive/My Drive/evodata/X1.h5\",  mode='r') as store:\n",
        "    X = store.select('X')\n",
        "        "
      ],
      "execution_count": 0,
      "outputs": []
    },
    {
      "cell_type": "code",
      "metadata": {
        "id": "r0rKgbKe6dsl",
        "colab_type": "code",
        "colab": {}
      },
      "source": [
        ""
      ],
      "execution_count": 0,
      "outputs": []
    },
    {
      "cell_type": "code",
      "metadata": {
        "id": "VLKXWzKx53Xg",
        "colab_type": "code",
        "colab": {}
      },
      "source": [
        "# with pd.HDFStore('evo/Y1.h5',  mode='r') as store:\n",
        "#     Y = store.select('Y')\n",
        "    \n",
        "# with pd.HDFStore('evo/X1.h5',  mode='r') as store:\n",
        "#     X = store.select('X')    "
      ],
      "execution_count": 0,
      "outputs": []
    },
    {
      "cell_type": "code",
      "metadata": {
        "id": "MH6fI_m953Xk",
        "colab_type": "code",
        "colab": {}
      },
      "source": [
        "X['InclusionBodiesProbPos'] = (X['InclusionBodiesProbability']>=0)*X['InclusionBodiesProbability']\n",
        "X['InclusionBodiesProbNeg'] = (X['InclusionBodiesProbability']<0)*X['InclusionBodiesProbability']\n",
        "\n",
        "def location_type_numeric(x1):\n",
        "    \n",
        "    if x1 == '0':\n",
        "        return 1\n",
        "    elif x1 == 'SignalP_gram_plus_S':\n",
        "        return 2\n",
        "    elif x1 == 'SignalP_gram_minus_S':\n",
        "        return 3\n",
        "    elif x1 == 'T4SEpre_bpbAac_T4SE':\n",
        "        return 4\n",
        "    elif x1 == 'hmmsearch_Tat':\n",
        "        return 5\n",
        "    elif x1 == 'T3_MM_T3SS':\n",
        "        return 6\n",
        "    elif x1 == 'SignalP_gram_plus_S':\n",
        "        return 7\n",
        "    elif x1 == 'hmmsearch_T6S':\n",
        "        return 8\n",
        "    elif x1 == 'hmmsearch_T1S':\n",
        "        return 9\n",
        "    else:\n",
        "        raise Exception(x1)\n",
        "        \n",
        "X['loc_type_numeric'] = X['loc_type'].apply(location_type_numeric)\n"
      ],
      "execution_count": 0,
      "outputs": []
    },
    {
      "cell_type": "code",
      "metadata": {
        "id": "_yftDb2F53Xn",
        "colab_type": "code",
        "colab": {}
      },
      "source": [
        "Y.sort_values('cluster', inplace=True)\n",
        "X.sort_values('cluster_is', inplace=True)"
      ],
      "execution_count": 0,
      "outputs": []
    },
    {
      "cell_type": "code",
      "metadata": {
        "id": "bD_7XOan53Xq",
        "colab_type": "code",
        "colab": {}
      },
      "source": [
        "Y.drop('cluster', inplace=True,axis=1)\n",
        "X.drop(['cluster_is', 'InclusionBodiesProbability', 'loc_type' ], inplace=True,axis=1)"
      ],
      "execution_count": 0,
      "outputs": []
    },
    {
      "cell_type": "code",
      "metadata": {
        "id": "2UTZH-vc53Xs",
        "colab_type": "code",
        "colab": {}
      },
      "source": [
        "labels_on_sums = Y.sum(axis=0)\n",
        "labels_on_sums.sort_values(ascending=False, inplace=True)"
      ],
      "execution_count": 0,
      "outputs": []
    },
    {
      "cell_type": "code",
      "metadata": {
        "id": "SsLYSPJS53Xv",
        "colab_type": "code",
        "colab": {}
      },
      "source": [
        "x1 = labels_on_sums > 1000"
      ],
      "execution_count": 0,
      "outputs": []
    },
    {
      "cell_type": "code",
      "metadata": {
        "id": "5JDSREm353Xy",
        "colab_type": "code",
        "colab": {
          "base_uri": "https://localhost:8080/",
          "height": 123
        },
        "outputId": "955b89ba-4a39-4129-d4ee-4717e60ba187"
      },
      "source": [
        "x1[0:5]"
      ],
      "execution_count": 9,
      "outputs": [
        {
          "output_type": "execute_result",
          "data": {
            "text/plain": [
              "go_9401     True\n",
              "go_45454    True\n",
              "go_105      True\n",
              "go_6265     True\n",
              "go_9231     True\n",
              "dtype: bool"
            ]
          },
          "metadata": {
            "tags": []
          },
          "execution_count": 9
        }
      ]
    },
    {
      "cell_type": "code",
      "metadata": {
        "id": "MdH-6L3M53X4",
        "colab_type": "code",
        "colab": {}
      },
      "source": [
        "valid_labels = labels_on_sums[x1]"
      ],
      "execution_count": 0,
      "outputs": []
    },
    {
      "cell_type": "code",
      "metadata": {
        "id": "tukrnlYP53X6",
        "colab_type": "code",
        "colab": {
          "base_uri": "https://localhost:8080/",
          "height": 123
        },
        "outputId": "0cea7181-37c8-4619-862b-ce3acb6809ad"
      },
      "source": [
        "valid_labels[0:5]"
      ],
      "execution_count": 13,
      "outputs": [
        {
          "output_type": "execute_result",
          "data": {
            "text/plain": [
              "go_9401     168838\n",
              "go_45454    134060\n",
              "go_105       83332\n",
              "go_6265      69816\n",
              "go_9231      66419\n",
              "dtype: int64"
            ]
          },
          "metadata": {
            "tags": []
          },
          "execution_count": 13
        }
      ]
    },
    {
      "cell_type": "code",
      "metadata": {
        "id": "Bmb-5eF853X-",
        "colab_type": "code",
        "colab": {}
      },
      "source": [
        "columsn_to_drop = [col for col in Y.columns if  col not in valid_labels]"
      ],
      "execution_count": 0,
      "outputs": []
    },
    {
      "cell_type": "code",
      "metadata": {
        "id": "4IS0afWa53YC",
        "colab_type": "code",
        "colab": {}
      },
      "source": [
        "Y.drop(columsn_to_drop, inplace=True,axis=1)"
      ],
      "execution_count": 0,
      "outputs": []
    },
    {
      "cell_type": "code",
      "metadata": {
        "id": "kP5Iu5lQAvmX",
        "colab_type": "code",
        "colab": {}
      },
      "source": [
        ""
      ],
      "execution_count": 0,
      "outputs": []
    },
    {
      "cell_type": "code",
      "metadata": {
        "id": "06rMj-CW53YG",
        "colab_type": "code",
        "colab": {
          "base_uri": "https://localhost:8080/",
          "height": 34
        },
        "outputId": "3d507159-0d40-476d-e0e9-7586107cd618"
      },
      "source": [
        "Y.shape"
      ],
      "execution_count": 16,
      "outputs": [
        {
          "output_type": "execute_result",
          "data": {
            "text/plain": [
              "(2528843, 245)"
            ]
          },
          "metadata": {
            "tags": []
          },
          "execution_count": 16
        }
      ]
    },
    {
      "cell_type": "code",
      "metadata": {
        "id": "Ee-Dv6wN53YJ",
        "colab_type": "code",
        "colab": {}
      },
      "source": [
        "from sklearn.model_selection import train_test_split\n",
        "X_train, X_test, y_train, y_test = train_test_split(X, Y, test_size=0.3, random_state=42)"
      ],
      "execution_count": 0,
      "outputs": []
    },
    {
      "cell_type": "code",
      "metadata": {
        "id": "k5LG0n1OB6qC",
        "colab_type": "code",
        "colab": {}
      },
      "source": [
        "corr = y_train.corr()\n",
        "fig = plt.figure()\n",
        "ax = fig.add_subplot(111)\n",
        "cax = ax.matshow(corr,cmap='coolwarm', vmin=-1, vmax=1)\n",
        "fig.colorbar(cax)\n",
        "ticks = np.arange(0,len(data.columns),1)\n",
        "ax.set_xticks(ticks)\n",
        "plt.xticks(rotation=90)\n",
        "ax.set_yticks(ticks)\n",
        "ax.set_xticklabels(data.columns)\n",
        "ax.set_yticklabels(data.columns)\n",
        "plt.show()"
      ],
      "execution_count": 0,
      "outputs": []
    },
    {
      "cell_type": "code",
      "metadata": {
        "id": "HWiAF2DTA0km",
        "colab_type": "code",
        "colab": {}
      },
      "source": [
        "from skmultilearn.adapt import MLkNN\n",
        "classifier = MLkNN(k=3)\n",
        "prediction = classifier.fit(X_train.values, y_train.values)\n",
        "#.predict(X_test)"
      ],
      "execution_count": 0,
      "outputs": []
    },
    {
      "cell_type": "code",
      "metadata": {
        "id": "2jkOYXRU53YM",
        "colab_type": "code",
        "colab": {}
      },
      "source": [
        "import xgboost as xgb\n",
        "from sklearn.metrics import mean_squared_error\n",
        "import pandas as pd\n",
        "import numpy as np"
      ],
      "execution_count": 0,
      "outputs": []
    },
    {
      "cell_type": "code",
      "metadata": {
        "id": "ViLgPuDi53YO",
        "colab_type": "code",
        "colab": {}
      },
      "source": [
        "alg = xgb.XGBClassifier(learning_rate=0.1, n_estimators=140, max_depth=5,\n",
        "                        min_child_weight=3, gamma=0.2, subsample=0.6, colsample_bytree=1.0,\n",
        "                        objective='binary:logistic', nthread=4, scale_pos_weight=1, seed=27)"
      ],
      "execution_count": 0,
      "outputs": []
    },
    {
      "cell_type": "code",
      "metadata": {
        "id": "gAusz7VC53YS",
        "colab_type": "code",
        "colab": {},
        "outputId": "14cdbcf8-4aef-4530-e00a-73249d9b050a"
      },
      "source": [
        "alg.fit(X_train, y_train['go_9401'], eval_metric='auc')"
      ],
      "execution_count": 0,
      "outputs": [
        {
          "output_type": "execute_result",
          "data": {
            "text/plain": [
              "XGBClassifier(base_score=0.5, booster='gbtree', colsample_bylevel=1,\n",
              "              colsample_bynode=1, colsample_bytree=1.0, gamma=0.2,\n",
              "              learning_rate=0.1, max_delta_step=0, max_depth=5,\n",
              "              min_child_weight=3, missing=None, n_estimators=140, n_jobs=1,\n",
              "              nthread=4, objective='binary:logistic', random_state=0,\n",
              "              reg_alpha=0, reg_lambda=1, scale_pos_weight=1, seed=27,\n",
              "              silent=None, subsample=0.6, verbosity=1)"
            ]
          },
          "metadata": {
            "tags": []
          },
          "execution_count": 14
        }
      ]
    },
    {
      "cell_type": "code",
      "metadata": {
        "id": "8BRxOCmX53Ya",
        "colab_type": "code",
        "colab": {}
      },
      "source": [
        "predictions = alg.predict(X_test)\n",
        "pred_proba = alg.predict_proba(X_test)[:, 1]"
      ],
      "execution_count": 0,
      "outputs": []
    },
    {
      "cell_type": "code",
      "metadata": {
        "id": "Wu-VjN2b53Yd",
        "colab_type": "code",
        "colab": {},
        "outputId": "b18ca5aa-aded-42dd-e140-325367844f55"
      },
      "source": [
        "from sklearn import metrics\n",
        "from sklearn.metrics import f1_score, roc_auc_score\n",
        "from imblearn.metrics import classification_report_imbalanced\n",
        "\n",
        "\n"
      ],
      "execution_count": 0,
      "outputs": [
        {
          "output_type": "stream",
          "text": [
            "/home/ubuntu/.local/lib/python3.6/site-packages/sklearn/externals/six.py:31: DeprecationWarning: The module is deprecated in version 0.21 and will be removed in version 0.23 since we've dropped support for Python 2.7. Please rely on the official version of six (https://pypi.org/project/six/).\n",
            "  \"(https://pypi.org/project/six/).\", DeprecationWarning)\n"
          ],
          "name": "stderr"
        }
      ]
    },
    {
      "cell_type": "code",
      "metadata": {
        "id": "PwUmvsit53Yi",
        "colab_type": "code",
        "colab": {},
        "outputId": "da439a6b-8ca8-45f3-aad0-01de0c5ee0a4"
      },
      "source": [
        "print(\"acc : %.4g\" % metrics.accuracy_score(y_test['go_9401'], predictions))\n",
        "print(\"roc_auc %f\" % metrics.roc_auc_score(y_test['go_9401'], pred_proba))\n",
        "print(\"F1 Score : %f\" % metrics.f1_score(y_test['go_9401'], predictions))"
      ],
      "execution_count": 0,
      "outputs": [
        {
          "output_type": "stream",
          "text": [
            "acc : 0.9851\n",
            "AUC 0.991573\n",
            "F1 Score : 0.880308\n"
          ],
          "name": "stdout"
        }
      ]
    },
    {
      "cell_type": "code",
      "metadata": {
        "id": "4F7e4k8d53Yn",
        "colab_type": "code",
        "colab": {},
        "outputId": "83f79336-0e05-48c7-82d4-1004f2f81408"
      },
      "source": [
        "for label, count in labels_on_sums.items():\n",
        "    alg = xgb.XGBClassifier(learning_rate=0.1, n_estimators=140, max_depth=5,\n",
        "                        min_child_weight=3, gamma=0.2, subsample=0.6, colsample_bytree=1.0,\n",
        "                        objective='binary:logistic', nthread=4, scale_pos_weight=1, seed=27)\n",
        "    \n",
        "    alg.fit(X_train, y_train[label], eval_metric='auc')\n",
        "    predictions = alg.predict(X_test)\n",
        "    print('****************************************************')\n",
        "    print('label {0} with rows {1}'.format(label, count))\n",
        "    \n",
        "    print(\"acc : %.4g\" % metrics.accuracy_score(y_test[label], predictions))\n",
        "    print(\"AUC %f\" % metrics.roc_auc_score(y_test[label], pred_proba))\n",
        "    print(\"F1 Score : %f\" % metrics.f1_score(y_test[label], predictions))\n",
        "    print(classification_report_imbalanced(y_test[label], predictions))\n",
        "\n",
        "    print('****************************************************')\n",
        "    \n",
        "    "
      ],
      "execution_count": 0,
      "outputs": [
        {
          "output_type": "stream",
          "text": [
            "****************************************************\n",
            "label go_9401 with rows 168838\n",
            "acc : 0.9851\n",
            "AUC 0.991573\n",
            "F1 Score : 0.880308\n",
            "                   pre       rec       spe        f1       geo       iba       sup\n",
            "\n",
            "          0       0.99      1.00      0.82      0.99      0.90      0.83    707882\n",
            "          1       0.95      0.82      1.00      0.88      0.90      0.80     50771\n",
            "\n",
            "avg / total       0.98      0.99      0.83      0.98      0.90      0.83    758653\n",
            "\n",
            "****************************************************\n",
            "****************************************************\n",
            "label go_45454 with rows 134060\n",
            "acc : 0.9827\n",
            "AUC 0.583986\n",
            "F1 Score : 0.815040\n",
            "                   pre       rec       spe        f1       geo       iba       sup\n",
            "\n",
            "          0       0.98      1.00      0.72      0.99      0.85      0.74    718273\n",
            "          1       0.94      0.72      1.00      0.82      0.85      0.70     40380\n",
            "\n",
            "avg / total       0.98      0.98      0.73      0.98      0.85      0.73    758653\n",
            "\n",
            "****************************************************\n",
            "****************************************************\n",
            "label go_105 with rows 83332\n",
            "acc : 0.9873\n",
            "AUC 0.405943\n",
            "F1 Score : 0.764062\n",
            "                   pre       rec       spe        f1       geo       iba       sup\n",
            "\n",
            "          0       0.99      1.00      0.62      0.99      0.79      0.65    733750\n",
            "          1       0.98      0.62      1.00      0.76      0.79      0.60     24903\n",
            "\n",
            "avg / total       0.99      0.99      0.64      0.99      0.79      0.65    758653\n",
            "\n",
            "****************************************************\n",
            "****************************************************\n",
            "label go_6265 with rows 69816\n",
            "acc : 0.9964\n",
            "AUC 0.490112\n",
            "F1 Score : 0.933586\n",
            "                   pre       rec       spe        f1       geo       iba       sup\n",
            "\n",
            "          0       1.00      1.00      0.89      1.00      0.94      0.90    737453\n",
            "          1       0.98      0.89      1.00      0.93      0.94      0.88     21200\n",
            "\n",
            "avg / total       1.00      1.00      0.90      1.00      0.94      0.90    758653\n",
            "\n",
            "****************************************************\n",
            "****************************************************\n",
            "label go_9231 with rows 66419\n",
            "acc : 0.988\n",
            "AUC 0.413849\n",
            "F1 Score : 0.708447\n",
            "                   pre       rec       spe        f1       geo       iba       sup\n",
            "\n",
            "          0       0.99      1.00      0.56      0.99      0.75      0.58    738737\n",
            "          1       0.97      0.56      1.00      0.71      0.75      0.53     19916\n",
            "\n",
            "avg / total       0.99      0.99      0.57      0.99      0.75      0.58    758653\n",
            "\n",
            "****************************************************\n"
          ],
          "name": "stdout"
        },
        {
          "output_type": "error",
          "ename": "KeyboardInterrupt",
          "evalue": "",
          "traceback": [
            "\u001b[0;31m---------------------------------------------------------------------------\u001b[0m",
            "\u001b[0;31mKeyboardInterrupt\u001b[0m                         Traceback (most recent call last)",
            "\u001b[0;32m<ipython-input-25-fca0850d5865>\u001b[0m in \u001b[0;36m<module>\u001b[0;34m()\u001b[0m\n\u001b[1;32m      4\u001b[0m                         objective='binary:logistic', nthread=4, scale_pos_weight=1, seed=27)\n\u001b[1;32m      5\u001b[0m \u001b[0;34m\u001b[0m\u001b[0m\n\u001b[0;32m----> 6\u001b[0;31m     \u001b[0malg\u001b[0m\u001b[0;34m.\u001b[0m\u001b[0mfit\u001b[0m\u001b[0;34m(\u001b[0m\u001b[0mX_train\u001b[0m\u001b[0;34m,\u001b[0m \u001b[0my_train\u001b[0m\u001b[0;34m[\u001b[0m\u001b[0mlabel\u001b[0m\u001b[0;34m]\u001b[0m\u001b[0;34m,\u001b[0m \u001b[0meval_metric\u001b[0m\u001b[0;34m=\u001b[0m\u001b[0;34m'auc'\u001b[0m\u001b[0;34m)\u001b[0m\u001b[0;34m\u001b[0m\u001b[0;34m\u001b[0m\u001b[0m\n\u001b[0m\u001b[1;32m      7\u001b[0m     \u001b[0mpredictions\u001b[0m \u001b[0;34m=\u001b[0m \u001b[0malg\u001b[0m\u001b[0;34m.\u001b[0m\u001b[0mpredict\u001b[0m\u001b[0;34m(\u001b[0m\u001b[0mX_test\u001b[0m\u001b[0;34m)\u001b[0m\u001b[0;34m\u001b[0m\u001b[0;34m\u001b[0m\u001b[0m\n\u001b[1;32m      8\u001b[0m     \u001b[0mprint\u001b[0m\u001b[0;34m(\u001b[0m\u001b[0;34m'****************************************************'\u001b[0m\u001b[0;34m)\u001b[0m\u001b[0;34m\u001b[0m\u001b[0;34m\u001b[0m\u001b[0m\n",
            "\u001b[0;32m/home/ubuntu/.local/lib/python3.6/site-packages/xgboost/sklearn.py\u001b[0m in \u001b[0;36mfit\u001b[0;34m(self, X, y, sample_weight, eval_set, eval_metric, early_stopping_rounds, verbose, xgb_model, sample_weight_eval_set, callbacks)\u001b[0m\n\u001b[1;32m    730\u001b[0m                               \u001b[0mevals_result\u001b[0m\u001b[0;34m=\u001b[0m\u001b[0mevals_result\u001b[0m\u001b[0;34m,\u001b[0m \u001b[0mobj\u001b[0m\u001b[0;34m=\u001b[0m\u001b[0mobj\u001b[0m\u001b[0;34m,\u001b[0m \u001b[0mfeval\u001b[0m\u001b[0;34m=\u001b[0m\u001b[0mfeval\u001b[0m\u001b[0;34m,\u001b[0m\u001b[0;34m\u001b[0m\u001b[0;34m\u001b[0m\u001b[0m\n\u001b[1;32m    731\u001b[0m                               \u001b[0mverbose_eval\u001b[0m\u001b[0;34m=\u001b[0m\u001b[0mverbose\u001b[0m\u001b[0;34m,\u001b[0m \u001b[0mxgb_model\u001b[0m\u001b[0;34m=\u001b[0m\u001b[0mxgb_model\u001b[0m\u001b[0;34m,\u001b[0m\u001b[0;34m\u001b[0m\u001b[0;34m\u001b[0m\u001b[0m\n\u001b[0;32m--> 732\u001b[0;31m                               callbacks=callbacks)\n\u001b[0m\u001b[1;32m    733\u001b[0m \u001b[0;34m\u001b[0m\u001b[0m\n\u001b[1;32m    734\u001b[0m         \u001b[0mself\u001b[0m\u001b[0;34m.\u001b[0m\u001b[0mobjective\u001b[0m \u001b[0;34m=\u001b[0m \u001b[0mxgb_options\u001b[0m\u001b[0;34m[\u001b[0m\u001b[0;34m\"objective\"\u001b[0m\u001b[0;34m]\u001b[0m\u001b[0;34m\u001b[0m\u001b[0;34m\u001b[0m\u001b[0m\n",
            "\u001b[0;32m/home/ubuntu/.local/lib/python3.6/site-packages/xgboost/training.py\u001b[0m in \u001b[0;36mtrain\u001b[0;34m(params, dtrain, num_boost_round, evals, obj, feval, maximize, early_stopping_rounds, evals_result, verbose_eval, xgb_model, callbacks, learning_rates)\u001b[0m\n\u001b[1;32m    214\u001b[0m                            \u001b[0mevals\u001b[0m\u001b[0;34m=\u001b[0m\u001b[0mevals\u001b[0m\u001b[0;34m,\u001b[0m\u001b[0;34m\u001b[0m\u001b[0;34m\u001b[0m\u001b[0m\n\u001b[1;32m    215\u001b[0m                            \u001b[0mobj\u001b[0m\u001b[0;34m=\u001b[0m\u001b[0mobj\u001b[0m\u001b[0;34m,\u001b[0m \u001b[0mfeval\u001b[0m\u001b[0;34m=\u001b[0m\u001b[0mfeval\u001b[0m\u001b[0;34m,\u001b[0m\u001b[0;34m\u001b[0m\u001b[0;34m\u001b[0m\u001b[0m\n\u001b[0;32m--> 216\u001b[0;31m                            xgb_model=xgb_model, callbacks=callbacks)\n\u001b[0m\u001b[1;32m    217\u001b[0m \u001b[0;34m\u001b[0m\u001b[0m\n\u001b[1;32m    218\u001b[0m \u001b[0;34m\u001b[0m\u001b[0m\n",
            "\u001b[0;32m/home/ubuntu/.local/lib/python3.6/site-packages/xgboost/training.py\u001b[0m in \u001b[0;36m_train_internal\u001b[0;34m(params, dtrain, num_boost_round, evals, obj, feval, xgb_model, callbacks)\u001b[0m\n\u001b[1;32m     72\u001b[0m         \u001b[0;31m# Skip the first update if it is a recovery step.\u001b[0m\u001b[0;34m\u001b[0m\u001b[0;34m\u001b[0m\u001b[0;34m\u001b[0m\u001b[0m\n\u001b[1;32m     73\u001b[0m         \u001b[0;32mif\u001b[0m \u001b[0mversion\u001b[0m \u001b[0;34m%\u001b[0m \u001b[0;36m2\u001b[0m \u001b[0;34m==\u001b[0m \u001b[0;36m0\u001b[0m\u001b[0;34m:\u001b[0m\u001b[0;34m\u001b[0m\u001b[0;34m\u001b[0m\u001b[0m\n\u001b[0;32m---> 74\u001b[0;31m             \u001b[0mbst\u001b[0m\u001b[0;34m.\u001b[0m\u001b[0mupdate\u001b[0m\u001b[0;34m(\u001b[0m\u001b[0mdtrain\u001b[0m\u001b[0;34m,\u001b[0m \u001b[0mi\u001b[0m\u001b[0;34m,\u001b[0m \u001b[0mobj\u001b[0m\u001b[0;34m)\u001b[0m\u001b[0;34m\u001b[0m\u001b[0;34m\u001b[0m\u001b[0m\n\u001b[0m\u001b[1;32m     75\u001b[0m             \u001b[0mbst\u001b[0m\u001b[0;34m.\u001b[0m\u001b[0msave_rabit_checkpoint\u001b[0m\u001b[0;34m(\u001b[0m\u001b[0;34m)\u001b[0m\u001b[0;34m\u001b[0m\u001b[0;34m\u001b[0m\u001b[0m\n\u001b[1;32m     76\u001b[0m             \u001b[0mversion\u001b[0m \u001b[0;34m+=\u001b[0m \u001b[0;36m1\u001b[0m\u001b[0;34m\u001b[0m\u001b[0;34m\u001b[0m\u001b[0m\n",
            "\u001b[0;32m/home/ubuntu/.local/lib/python3.6/site-packages/xgboost/core.py\u001b[0m in \u001b[0;36mupdate\u001b[0;34m(self, dtrain, iteration, fobj)\u001b[0m\n\u001b[1;32m   1107\u001b[0m         \u001b[0;32mif\u001b[0m \u001b[0mfobj\u001b[0m \u001b[0;32mis\u001b[0m \u001b[0;32mNone\u001b[0m\u001b[0;34m:\u001b[0m\u001b[0;34m\u001b[0m\u001b[0;34m\u001b[0m\u001b[0m\n\u001b[1;32m   1108\u001b[0m             _check_call(_LIB.XGBoosterUpdateOneIter(self.handle, ctypes.c_int(iteration),\n\u001b[0;32m-> 1109\u001b[0;31m                                                     dtrain.handle))\n\u001b[0m\u001b[1;32m   1110\u001b[0m         \u001b[0;32melse\u001b[0m\u001b[0;34m:\u001b[0m\u001b[0;34m\u001b[0m\u001b[0;34m\u001b[0m\u001b[0m\n\u001b[1;32m   1111\u001b[0m             \u001b[0mpred\u001b[0m \u001b[0;34m=\u001b[0m \u001b[0mself\u001b[0m\u001b[0;34m.\u001b[0m\u001b[0mpredict\u001b[0m\u001b[0;34m(\u001b[0m\u001b[0mdtrain\u001b[0m\u001b[0;34m)\u001b[0m\u001b[0;34m\u001b[0m\u001b[0;34m\u001b[0m\u001b[0m\n",
            "\u001b[0;31mKeyboardInterrupt\u001b[0m: "
          ]
        }
      ]
    },
    {
      "cell_type": "code",
      "metadata": {
        "id": "CK-wPRVa53Yq",
        "colab_type": "code",
        "colab": {}
      },
      "source": [
        "#chain classifier\n",
        "labels_order = []\n",
        "for label, count in valid_labels.items():\n",
        "    \n",
        "    my_index = y_train.columns.tolist().index(label)\n",
        "    labels_order.append(my_index)\n",
        "    "
      ],
      "execution_count": 0,
      "outputs": []
    },
    {
      "cell_type": "code",
      "metadata": {
        "id": "Ax535VS-53Ys",
        "colab_type": "code",
        "colab": {},
        "outputId": "b228d549-d752-4191-b48b-46fda73723fe"
      },
      "source": [
        "# using classifier chains\n",
        "from skmultilearn.problem_transform import ClassifierChain\n",
        "from sklearn.naive_bayes import GaussianNB\n",
        "from sklearn.tree import DecisionTreeClassifier\n",
        "# initialize classifier chains multi-label classifier\n",
        "# with a gaussian naive bayes base classifier use any other classifier if u wish\n",
        "#classifier = ClassifierChain(GaussianNB())\n",
        "#classifier = ClassifierChain(DecisionTreeClassifier())\n",
        "\n",
        "print(1)\n",
        "algo = xgb.XGBClassifier(learning_rate=0.1, n_estimators=140, max_depth=5,\n",
        "                        min_child_weight=3, gamma=0.2, subsample=0.6, colsample_bytree=1.0,\n",
        "                        objective='binary:logistic', nthread=4, scale_pos_weight=1, seed=27)\n",
        "\n",
        "print(2)\n",
        "classifier = ClassifierChain(algo, order=labels_order)\n",
        "#classifier = ClassifierChain(algo)\n",
        "\n",
        "print(3)\n",
        "# train\n",
        "classifier.fit(X_train, y_train)\n",
        "print(4)"
      ],
      "execution_count": 0,
      "outputs": [
        {
          "output_type": "stream",
          "text": [
            "1\n",
            "2\n",
            "3\n"
          ],
          "name": "stdout"
        }
      ]
    },
    {
      "cell_type": "code",
      "metadata": {
        "id": "Re5r-K8-53Yw",
        "colab_type": "code",
        "colab": {},
        "outputId": "b81bcf16-28fe-497d-d478-c265c48e944d"
      },
      "source": [
        "X_train.ndim,y_train.ndim"
      ],
      "execution_count": 0,
      "outputs": [
        {
          "output_type": "execute_result",
          "data": {
            "text/plain": [
              "(2, 2)"
            ]
          },
          "metadata": {
            "tags": []
          },
          "execution_count": 33
        }
      ]
    },
    {
      "cell_type": "code",
      "metadata": {
        "id": "479WhAnp53Yy",
        "colab_type": "code",
        "colab": {}
      },
      "source": [
        "# predict\n",
        "predictions = classifier.predict(x)\n",
        "accuracy_score(y,predictions)"
      ],
      "execution_count": 0,
      "outputs": []
    }
  ]
}